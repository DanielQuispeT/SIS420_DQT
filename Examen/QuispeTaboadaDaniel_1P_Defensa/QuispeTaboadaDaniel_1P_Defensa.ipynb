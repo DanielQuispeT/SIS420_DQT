{
  "cells": [
    {
      "cell_type": "code",
      "execution_count": 18,
      "metadata": {
        "id": "QCrY9WF4jv_x"
      },
      "outputs": [],
      "source": [
        "import sys\n",
        "import time\n",
        "sys.setrecursionlimit(9999999)\n",
        "# Autor: Daniel Quispe Taboada"
      ]
    },
    {
      "cell_type": "code",
      "execution_count": 19,
      "metadata": {
        "id": "gXCXLFrMj1LA"
      },
      "outputs": [],
      "source": [
        "class Node:\n",
        "    def __init__(self, data, son=None):\n",
        "        self.data = data\n",
        "        self.son = None\n",
        "        self.father = None\n",
        "        self.cost = None\n",
        "        self.set_son(son)\n",
        "\n",
        "    def set_son(self, son):\n",
        "        self.son = son\n",
        "        if self.son is not None:\n",
        "            for s in self.son:\n",
        "                s.father = self\n",
        "\n",
        "    def get_son(self):\n",
        "        return self.son\n",
        "\n",
        "    def get_father(self):\n",
        "        return self.father\n",
        "\n",
        "    def set_father(self, father):\n",
        "        self.father = father\n",
        "\n",
        "    def set_data(self, data):\n",
        "        self.data = data\n",
        "\n",
        "    def get_data(self):\n",
        "        return self.data\n",
        "\n",
        "    def set_cost(self, cost):\n",
        "        self.cost = cost\n",
        "\n",
        "    def get_cost(self):\n",
        "        return self.cost\n",
        "\n",
        "    def equal(self, node):\n",
        "        if self.get_data() == node.get_data():\n",
        "            return True\n",
        "        else:\n",
        "            return False\n",
        "\n",
        "    def on_list(self, node_list):\n",
        "        listed = False\n",
        "        for n in node_list:\n",
        "            if self.equal(n):\n",
        "                listed = True\n",
        "        return listed\n",
        "\n",
        "    def __str__(self):\n",
        "        return str(self.get_data())"
      ]
    },
    {
      "cell_type": "code",
      "execution_count": 20,
      "metadata": {
        "id": "TUvuGuK4j4ph"
      },
      "outputs": [],
      "source": [
        "# Se encarga de decidir si el signo de la ecuacion es mas '+' o menos '-', devolviendo cual sea\n",
        "def masomenos(l1, l2):\n",
        "    contador = 0\n",
        "    resultado = ''\n",
        "    if l1 == 'p':\n",
        "        contador += 1\n",
        "    if l2 == 'p':\n",
        "        contador += 1\n",
        "    if contador == 2:\n",
        "        resultado = '+'\n",
        "    if contador == 1:\n",
        "        resultado = '-'\n",
        "    return resultado"
      ]
    },
    {
      "cell_type": "code",
      "execution_count": 21,
      "metadata": {
        "id": "cNi20scykeIA"
      },
      "outputs": [],
      "source": [
        "# Esta funcion se encarga a partir de un estado, pudiendo ser inicial, solucion o de otro, este se puede guardar en otra matriz para posteriormente mostrarla\n",
        "def matrizar(l):\n",
        "    lista = [['is', l[0][1]+'h',       'ds', ' ',                        ' ', ' ',         'is', l[9][1]+'h',          'ds', ' ', ' ', ' ',         'is', l[16][1]+'h',         'ds', ],\n",
        "             [l[1][1]+'v',         ' ', l[2][1]+'v', ' ',                        ' ', ' ', l[10][1]+'v',\n",
        "                 ' ', l[11][1]+'v', ' ', '─', ' ', l[17][1]+'v',          ' ', l[18][1]+'v', ],\n",
        "             ['m', l[3][1]+'h',         'm', ' ', masomenos(l[7][1], l[8][1]), ' ',          'm',\n",
        "              l[12][1]+'h',          'm', ' ', ' ', ' ',          'm', l[19][1]+'h',          'm', ],\n",
        "             [l[4][1]+'v',         ' ', l[5][1]+'v', ' ',                        ' ', ' ', l[13][1]+'v',\n",
        "                 ' ', l[14][1]+'v', ' ', '─', ' ', l[20][1]+'v',          ' ', l[21][1]+'v', ],\n",
        "             ['ii', l[6][1]+'h',        'di', ' ',                        ' ', ' ',         'ii',\n",
        "                 l[15][1]+'h',         'di', ' ', ' ', ' ',         'ii', l[22][1]+'h',         'di', ]\n",
        "             ]\n",
        "    return lista"
      ]
    },
    {
      "cell_type": "code",
      "execution_count": 22,
      "metadata": {
        "id": "tml7OT7tkgmo"
      },
      "outputs": [],
      "source": [
        "# La funcion se encagra de ponerle los espacios vacios que quedan, y lo palitos dependiendo si son vericales u horizontal, listo para imprimir por consola\n",
        "def graficar(lista):\n",
        "    grafica = lista.copy()\n",
        "    for i in range(0, len(lista)):\n",
        "        for j in range(0, len(lista[i])):\n",
        "            if lista[i][j] == 'vh' or lista[i][j] == 'vv':\n",
        "                caracter = ' '\n",
        "            elif lista[i][j] == 'ph':\n",
        "                caracter = '─'\n",
        "            elif lista[i][j] == 'pv':\n",
        "                caracter = '│'\n",
        "            elif lista[i][j] == '─':\n",
        "                caracter = '─'\n",
        "            elif lista[i][j] == 'is':\n",
        "                caracter = '·'\n",
        "            elif lista[i][j] == 'ds':\n",
        "                caracter = '·'\n",
        "            elif lista[i][j] == 'ii':\n",
        "                caracter = '·'\n",
        "            elif lista[i][j] == 'di':\n",
        "                caracter = '·'\n",
        "            elif lista[i][j] == 'm':\n",
        "                caracter = '·'\n",
        "            elif lista[i][j] == '-' or lista[i][j] == '+':\n",
        "                caracter = lista[i][j]\n",
        "            else:\n",
        "                caracter = ' '\n",
        "            grafica[i][j] = caracter\n",
        "    return grafica"
      ]
    },
    {
      "cell_type": "code",
      "execution_count": 64,
      "metadata": {
        "id": "9KbRSqIkkivY"
      },
      "outputs": [],
      "source": [
        "# Imprimir se encarga como su nombre lo dice, muestra ya la data que se pasa como parametro\n",
        "def imprimir_Matriz(li):\n",
        "    for line in li:\n",
        "        print(''.join(map(str, line)))\n",
        "def imprimir_Lista(li):\n",
        "    for line in li:\n",
        "        print(line, end=' ')"
      ]
    },
    {
      "cell_type": "code",
      "source": [
        "def resolver(n1, n2, s):\n",
        "  if s == '-':\n",
        "    return n1 - n2\n",
        "  elif s == '+':\n",
        "    return n1 + n2\n",
        "  else:\n",
        "    return 0"
      ],
      "metadata": {
        "id": "fqmy1_KJ9d0I"
      },
      "execution_count": 43,
      "outputs": []
    },
    {
      "cell_type": "code",
      "source": [
        "def CPN(num): #cantidad de palitoa por numero\n",
        "  if num == 1:\n",
        "    cantidad = 2\n",
        "  elif num == 5 or num == 3 or num == 2: \n",
        "    cantidad = 5\n",
        "  elif num == 8: \n",
        "    cantidad = 7\n",
        "  elif num == 6 or num == 9 or num == 0: \n",
        "    cantidad = 6\n",
        "  elif num == 7: \n",
        "    cantidad = 3\n",
        "  elif num == 4: \n",
        "    cantidad = 4\n",
        "  return cantidad"
      ],
      "metadata": {
        "id": "1j0YMnpB-36A"
      },
      "execution_count": 26,
      "outputs": []
    },
    {
      "cell_type": "code",
      "source": [
        "def cantidadPalos(s):\n",
        "  contador = 2\n",
        "  n1 = int(s[0])\n",
        "  si = s[1]\n",
        "  n2 = int(s[2])\n",
        "  re = int(s[4])\n",
        "  if si == '-':\n",
        "    contador += 1\n",
        "  elif si == '+':\n",
        "    contador += 2\n",
        "  for i in range(0, 10):\n",
        "    if i == n1:\n",
        "      contador += CPN(n1)\n",
        "    if i == n2:\n",
        "      contador += CPN(n2)\n",
        "    if i == re:\n",
        "      contador += CPN(re) \n",
        "  return contador"
      ],
      "metadata": {
        "id": "boRQuBiNEkOL"
      },
      "execution_count": 27,
      "outputs": []
    },
    {
      "cell_type": "code",
      "execution_count": 100,
      "metadata": {
        "id": "WAuFfIJ7j8nX"
      },
      "outputs": [],
      "source": [
        "# La solucion se busca recursivamente, ademas que hace uso de la heuristica, esto realiza un ordenamiento de lo numeros, \n",
        "# de un estado inicial, '4 - 2 = 9', hasta un estado final u objetivo, que es el '7 + 2 = 9'\n",
        "num = ['0','1','2','3','4','5','6','7','8','9',]\n",
        "sig = ['-','+',]\n",
        "def Solucion_Heuristica_de_Busqueda(init_node, visited):\n",
        "    inicio = init_node.get_data()\n",
        "    visited.append(inicio)\n",
        "    miembro1 = resolver(int(inicio[0]), int(inicio[2]), inicio[1])\n",
        "    miembro2 = int(inicio[4])\n",
        "    cant_Palos = cantidadPalos(inicio)\n",
        "    if miembro1 == miembro2 and inicio[1] == '+':\n",
        "        return init_node\n",
        "    else:\n",
        "        # Expandir nodos sucesores (hijos)\n",
        "        node_data = init_node.get_data()\n",
        "        son_nodes = []\n",
        "        for i in range(0, 10):\n",
        "            for j in range(0, 2):\n",
        "                for k in range(0, 10):\n",
        "                    for l in range(0, 10):\n",
        "                      son_data = [num[i], sig[j], num[k], '=', num[l]]\n",
        "                      Palos = cantidadPalos(son_data)\n",
        "                      if son_data == ['5','-','2','=','3']:\n",
        "                        print(son_data)\n",
        "                      if cant_Palos == Palos and son_data[1] == '+':\n",
        "                        #print(son_data)\n",
        "                        son_nodes.append(Node(son_data))\n",
        "        init_node.set_son(son_nodes)\n",
        "\n",
        "        for son_node in init_node.get_son():\n",
        "            if not son_node.get_data() in visited and heuristica(init_node, son_node):\n",
        "                solutn = Solucion_Heuristica_de_Busqueda(son_node, visited)\n",
        "                if solutn is not None:\n",
        "                    return solutn\n",
        "        return None\n",
        "\n",
        "# Ve cual es mejor, si el nodo padre o su nodo hijo, segun al ordenamiento que realiza\n",
        "def heuristica(father_node, son_node):\n",
        "    father_quality = 0\n",
        "    son_quality = 0\n",
        "    dataP = father_node.get_data()\n",
        "    dataS = son_node.get_data()      \n",
        "\n",
        "    return son_quality >= father_quality"
      ]
    },
    {
      "cell_type": "code",
      "execution_count": 99,
      "metadata": {
        "colab": {
          "base_uri": "https://localhost:8080/"
        },
        "id": "FawT3QWxkE9A",
        "outputId": "9e22536f-15b2-48ce-9f42-283099737e85"
      },
      "outputs": [
        {
          "output_type": "stream",
          "name": "stdout",
          "text": [
            "Cantidad inicial de los palitos:  18\n",
            "['5', '-', '2', '=', '3']\n",
            "['5', '-', '2', '=', '3']\n",
            "['5', '-', '2', '=', '3']\n",
            "['5', '-', '2', '=', '3']\n",
            "['5', '-', '2', '=', '3']\n",
            "['5', '-', '2', '=', '3']\n",
            "['5', '-', '2', '=', '3']\n",
            "['5', '-', '2', '=', '3']\n",
            "['5', '-', '2', '=', '3']\n",
            "['5', '-', '2', '=', '3']\n",
            "['5', '-', '2', '=', '3']\n",
            "['5', '-', '2', '=', '3']\n",
            "['5', '-', '2', '=', '3']\n",
            "['5', '-', '2', '=', '3']\n",
            "['5', '-', '2', '=', '3']\n",
            "['5', '-', '2', '=', '3']\n",
            "['5', '-', '2', '=', '3']\n",
            "['5', '-', '2', '=', '3']\n",
            "['5', '-', '2', '=', '3']\n",
            "['5', '-', '2', '=', '3']\n",
            "['5', '-', '2', '=', '3']\n",
            "Iteracion  1  con  18  palos.\n",
            "4 - 2 = 9 \n",
            "Iteracion  1  con  18  palos.\n",
            "0 - 0 = 7 \n",
            "Iteracion  1  con  18  palos.\n",
            "0 - 1 = 8 \n",
            "Iteracion  1  con  18  palos.\n",
            "0 - 2 = 4 \n",
            "Iteracion  1  con  18  palos.\n",
            "0 - 3 = 4 \n",
            "Iteracion  1  con  18  palos.\n",
            "0 - 4 = 2 \n",
            "Iteracion  1  con  18  palos.\n",
            "0 - 4 = 3 \n",
            "Iteracion  1  con  18  palos.\n",
            "0 - 4 = 5 \n",
            "Iteracion  1  con  18  palos.\n",
            "0 - 5 = 4 \n",
            "Iteracion  1  con  18  palos.\n",
            "0 - 6 = 7 \n",
            "Iteracion  1  con  18  palos.\n",
            "0 - 7 = 0 \n",
            "Iteracion  1  con  18  palos.\n",
            "0 - 7 = 6 \n",
            "Iteracion  1  con  18  palos.\n",
            "0 - 7 = 9 \n",
            "Iteracion  1  con  18  palos.\n",
            "0 - 8 = 1 \n",
            "Iteracion  1  con  18  palos.\n",
            "0 - 9 = 7 \n",
            "Iteracion  1  con  18  palos.\n",
            "0 + 0 = 1 \n",
            "Iteracion  1  con  18  palos.\n",
            "0 + 1 = 0 \n",
            "Iteracion  1  con  18  palos.\n",
            "0 + 1 = 6 \n",
            "Iteracion  1  con  18  palos.\n",
            "0 + 1 = 9 \n",
            "Iteracion  1  con  18  palos.\n",
            "0 + 2 = 7 \n",
            "Iteracion  1  con  18  palos.\n",
            "0 + 3 = 7 \n",
            "Iteracion  1  con  18  palos.\n",
            "0 + 4 = 4 \n",
            "Tiempo demorado:  0.17 s.\n"
          ]
        }
      ],
      "source": [
        "from re import I\n",
        "if __name__ == \"__main__\":\n",
        "    # Se pone los palitos de acuerdo a su numeracion\n",
        "    # y tambien los espacios vacios donde se puede mover, \n",
        "    # \"v\" es vacio y \"p\" esta el palito\n",
        "    inicio = '4-2=9'\n",
        "    estado_inicial = [x for x in inicio if x != ' ']\n",
        "    print(\"Cantidad inicial de los palitos: \", cantidadPalos(estado_inicial))\n",
        "    visited_nodes = []\n",
        "    initial_node = Node(estado_inicial)\n",
        "    tiempo_inicio = time.time()\n",
        "    solution_node = Solucion_Heuristica_de_Busqueda(initial_node, visited_nodes)\n",
        "    tiempo_final = time.time()\n",
        "    result = []\n",
        "    node = solution_node\n",
        "    if node is not None:\n",
        "        while node.get_father() is not None:\n",
        "            result.append(node.get_data())\n",
        "            node = node.get_father()\n",
        "\n",
        "        result.append(initial_node.get_data())\n",
        "        result.reverse()\n",
        "\n",
        "        i = 1\n",
        "        for valor in result:\n",
        "            print(\"Iteracion \",i, \" con \", cantidadPalos(valor), \" palos.\", end=\"\\n\")\n",
        "            imprimir_Lista(valor)\n",
        "            I += 1\n",
        "            print()\n",
        "    else:\n",
        "        print(\"No hay solución\")\n",
        "    print(\"Tiempo demorado: \", round(tiempo_final-tiempo_inicio, 2), \"s.\")"
      ]
    }
  ],
  "metadata": {
    "colab": {
      "provenance": []
    },
    "kernelspec": {
      "display_name": "Python 3.9.13 64-bit",
      "language": "python",
      "name": "python3"
    },
    "language_info": {
      "codemirror_mode": {
        "name": "ipython",
        "version": 3
      },
      "file_extension": ".py",
      "mimetype": "text/x-python",
      "name": "python",
      "nbconvert_exporter": "python",
      "pygments_lexer": "ipython3",
      "version": "3.9.13"
    },
    "vscode": {
      "interpreter": {
        "hash": "db770a79811cf06dd2eb2d8661a865789fd9658586cf1984ee660fb686aab52b"
      }
    }
  },
  "nbformat": 4,
  "nbformat_minor": 0
}