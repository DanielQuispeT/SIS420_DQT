{
  "cells": [
    {
      "cell_type": "code",
      "execution_count": null,
      "metadata": {
        "colab": {
          "base_uri": "https://localhost:8080/"
        },
        "id": "TyLjGn7vy6fN",
        "outputId": "820f2e8d-67e4-42e4-dca0-1d08d9dde700"
      },
      "outputs": [
        {
          "name": "stdout",
          "output_type": "stream",
          "text": [
            "{'username': 'sammy-shark', 'online': True, 'followers': 987}\n"
          ]
        }
      ],
      "source": [
        "sammy = {'username': 'sammy-shark', 'online': True, 'followers': 987}\n",
        "print(sammy)"
      ]
    },
    {
      "cell_type": "code",
      "execution_count": null,
      "metadata": {
        "colab": {
          "base_uri": "https://localhost:8080/"
        },
        "id": "t9bfIsAH2mzW",
        "outputId": "4efe125b-1362-40db-d180-1a52dbc177cc"
      },
      "outputs": [
        {
          "name": "stdout",
          "output_type": "stream",
          "text": [
            "sammy-shark\n"
          ]
        }
      ],
      "source": [
        "print(sammy['username'])"
      ]
    },
    {
      "cell_type": "code",
      "execution_count": null,
      "metadata": {
        "colab": {
          "base_uri": "https://localhost:8080/"
        },
        "id": "pgpt_X5N2uYt",
        "outputId": "ddaa5b0b-e7aa-4bfe-a611-67b8e10125ba"
      },
      "outputs": [
        {
          "name": "stdout",
          "output_type": "stream",
          "text": [
            "dict_keys(['username', 'online', 'followers'])\n"
          ]
        }
      ],
      "source": [
        "print(sammy.keys())"
      ]
    },
    {
      "cell_type": "code",
      "execution_count": null,
      "metadata": {
        "colab": {
          "base_uri": "https://localhost:8080/"
        },
        "id": "iyx5sizn5ZaG",
        "outputId": "5a7910da-65cd-403b-8579-08351ccedb5f"
      },
      "outputs": [
        {
          "name": "stdout",
          "output_type": "stream",
          "text": [
            "sammy-shark JOctopus\n",
            "True False\n"
          ]
        }
      ],
      "source": [
        "sammy = {'username': 'sammy-shark', 'online': True, 'followers': 987}\n",
        "jesse = {'username': 'JOctopus', 'online': False, 'points': 723}\n",
        "for common_key in sammy.keys() & jesse.keys():\n",
        "  print(sammy[common_key], jesse[common_key])"
      ]
    },
    {
      "cell_type": "code",
      "execution_count": null,
      "metadata": {
        "colab": {
          "base_uri": "https://localhost:8080/"
        },
        "id": "snVCkJRk5t2d",
        "outputId": "98972dc8-df5a-4dd4-d907-246b681733d1"
      },
      "outputs": [
        {
          "name": "stdout",
          "output_type": "stream",
          "text": [
            "dict_values(['sammy-shark', True, 987])\n"
          ]
        }
      ],
      "source": [
        "sammy = {'username': 'sammy-shark', 'online': True,\n",
        "'followers': 987}\n",
        "print(sammy.values())"
      ]
    },
    {
      "cell_type": "code",
      "execution_count": null,
      "metadata": {
        "colab": {
          "base_uri": "https://localhost:8080/"
        },
        "id": "295JsiU66Dz-",
        "outputId": "2abeb44a-28f6-4d86-bff8-4f119bfe4ecc"
      },
      "outputs": [
        {
          "name": "stdout",
          "output_type": "stream",
          "text": [
            "dict_items([('username', 'sammy-shark'), ('online', True), ('followers', 987)])\n"
          ]
        }
      ],
      "source": [
        "print(sammy.items())"
      ]
    },
    {
      "cell_type": "code",
      "execution_count": null,
      "metadata": {
        "colab": {
          "base_uri": "https://localhost:8080/"
        },
        "id": "MszqnlR68jWC",
        "outputId": "a163f585-058e-4bca-a1f5-9862e6d66b45"
      },
      "outputs": [
        {
          "name": "stdout",
          "output_type": "stream",
          "text": [
            "username is the key for the value sammy-shark\n",
            "online is the key for the value True\n",
            "followers is the key for the value 987\n"
          ]
        }
      ],
      "source": [
        "for key, value in sammy.items():\n",
        "  print(key, 'is the key for the value', value)"
      ]
    },
    {
      "cell_type": "code",
      "execution_count": null,
      "metadata": {
        "colab": {
          "base_uri": "https://localhost:8080/"
        },
        "id": "mgqoKaHd8kfy",
        "outputId": "a81a573e-cd66-4f1a-cfc4-17abd64346a7"
      },
      "outputs": [
        {
          "name": "stdout",
          "output_type": "stream",
          "text": [
            "{'Sammy': 'sammy-shark', 'Jamie': 'mantisshrimp54', 'Drew': 'squidly'}\n"
          ]
        }
      ],
      "source": [
        "usernames = {'Sammy': 'sammy-shark', 'Jamie': 'mantisshrimp54'}\n",
        "usernames['Drew'] = 'squidly'\n",
        "print(usernames)"
      ]
    },
    {
      "cell_type": "code",
      "execution_count": null,
      "metadata": {
        "colab": {
          "base_uri": "https://localhost:8080/"
        },
        "id": "ljz0qRVK9Zxi",
        "outputId": "2d1d6e4a-7a52-4c9d-a9fb-e80b4464a4cd"
      },
      "outputs": [
        {
          "name": "stdout",
          "output_type": "stream",
          "text": [
            "{'username': 'squidly', 'online': True, 'followers': 342}\n"
          ]
        }
      ],
      "source": [
        "drew = {'username': 'squidly', 'online': True, 'followers': 305}\n",
        "drew['followers'] = 342\n",
        "print(drew)"
      ]
    },
    {
      "cell_type": "code",
      "execution_count": null,
      "metadata": {
        "colab": {
          "base_uri": "https://localhost:8080/",
          "height": 588
        },
        "id": "_JcVPcsx9aW_",
        "outputId": "3f057e11-b50b-4bd2-8320-f94e2854f36e"
      },
      "outputs": [],
      "source": [
        "# Define original dictionary\n",
        "usernames = {'Sammy': 'sammy-shark', 'Jamie': 'mantisshrimp54'}\n",
        "# Set up while loop to iterate\n",
        "while True:\n",
        "  # Request user to enter a name\n",
        "  print('Enter a name:')\n",
        "  # Assign to name variable\n",
        "  name = input()\n",
        "  # Check whether name is in the dictionary and print feedback\n",
        "  if name in usernames:\n",
        "    print(usernames[name] + ' is the username of ' + name)\n",
        "  # If the name is not in the dictionary...\n",
        "  else:\n",
        "    # Provide feedback\n",
        "    print('I don\\'t have ' + name + '\\'s username, what is it?')\n",
        "  # Take in a new username for the associated name\n",
        "  username = input()\n",
        "  # Assign username value to name key\n",
        "  usernames[name] = username\n",
        "  # Print feedback that the data was updated\n",
        "  print('Data updated.')"
      ]
    },
    {
      "cell_type": "code",
      "execution_count": null,
      "metadata": {
        "colab": {
          "base_uri": "https://localhost:8080/"
        },
        "id": "Zm8mizy29apv",
        "outputId": "b66680a7-07de-4320-b8a8-4d5a3da610f0"
      },
      "outputs": [
        {
          "name": "stdout",
          "output_type": "stream",
          "text": [
            "{'username': 'JOctopus', 'online': False, 'points': 723, 'followers': 481}\n"
          ]
        }
      ],
      "source": [
        "jesse = {'username': 'JOctopus', 'online': False, 'points': 723}\n",
        "jesse.update({'followers': 481})\n",
        "print(jesse)"
      ]
    },
    {
      "cell_type": "code",
      "execution_count": null,
      "metadata": {
        "colab": {
          "base_uri": "https://localhost:8080/"
        },
        "id": "oP9bkjK3Bv0y",
        "outputId": "21812429-38cb-4f33-d588-7140e7ec4745"
      },
      "outputs": [
        {
          "name": "stdout",
          "output_type": "stream",
          "text": [
            "{'username': 'sammy-shark', 'online': False, 'followers': 987}\n"
          ]
        }
      ],
      "source": [
        "sammy = {'username': 'sammy-shark', 'online': True, 'followers': 987}\n",
        "sammy.update({'online': False})\n",
        "print(sammy)"
      ]
    },
    {
      "cell_type": "code",
      "execution_count": null,
      "metadata": {
        "colab": {
          "base_uri": "https://localhost:8080/"
        },
        "id": "NgcLTTciBwHi",
        "outputId": "a576674f-2074-4717-929c-f83c2b69565b"
      },
      "outputs": [
        {
          "name": "stdout",
          "output_type": "stream",
          "text": [
            "{'username': 'JOctopus', 'online': False, 'followers': 481}\n"
          ]
        }
      ],
      "source": [
        "del jesse['points']\n",
        "print(jesse)"
      ]
    },
    {
      "cell_type": "code",
      "execution_count": null,
      "metadata": {
        "colab": {
          "base_uri": "https://localhost:8080/"
        },
        "id": "NHIgBLn2CHeO",
        "outputId": "77c798b6-a458-4753-9fc1-f3a3832837ef"
      },
      "outputs": [
        {
          "name": "stdout",
          "output_type": "stream",
          "text": [
            "{}\n"
          ]
        }
      ],
      "source": [
        "jesse = {'username': 'JOctopus', 'online': False, 'points': 723, 'followers': 481}\n",
        "jesse.clear()\n",
        "print(jesse)"
      ]
    },
    {
      "cell_type": "code",
      "execution_count": null,
      "metadata": {
        "colab": {
          "base_uri": "https://localhost:8080/",
          "height": 182
        },
        "id": "G0C4UWelCHzH",
        "outputId": "6a176798-f21f-47ad-9223-54336da5a960"
      },
      "outputs": [],
      "source": [
        "del jesse\n",
        "print(jesse)"
      ]
    }
  ],
  "metadata": {
    "colab": {
      "provenance": []
    },
    "kernelspec": {
      "display_name": "Python 3",
      "name": "python3"
    },
    "language_info": {
      "name": "python"
    }
  },
  "nbformat": 4,
  "nbformat_minor": 0
}
