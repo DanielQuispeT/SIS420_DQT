{
  "nbformat": 4,
  "nbformat_minor": 0,
  "metadata": {
    "colab": {
      "provenance": []
    },
    "kernelspec": {
      "name": "python3",
      "display_name": "Python 3"
    },
    "language_info": {
      "name": "python"
    }
  },
  "cells": [
    {
      "cell_type": "code",
      "execution_count": null,
      "metadata": {
        "colab": {
          "base_uri": "https://localhost:8080/"
        },
        "id": "pjzC9GP0lBLx",
        "outputId": "f2638ea8-6dee-4097-d353-fa3c6bf15a3b"
      },
      "outputs": [
        {
          "output_type": "stream",
          "name": "stdout",
          "text": [
            "['shark', 'cuttlefish', 'squid', 'mantis shrimp', 'anemone']\n"
          ]
        }
      ],
      "source": [
        "sea_creatures = ['shark', 'cuttlefish', 'squid', 'mantis shrimp', 'anemone']\n",
        "print(sea_creatures)"
      ]
    },
    {
      "cell_type": "code",
      "source": [
        "print(sea_creatures[1])"
      ],
      "metadata": {
        "colab": {
          "base_uri": "https://localhost:8080/"
        },
        "id": "_W6FULHloZTJ",
        "outputId": "a0023e3b-5869-42ea-b472-4f96f89fd2d5"
      },
      "execution_count": null,
      "outputs": [
        {
          "output_type": "stream",
          "name": "stdout",
          "text": [
            "cuttlefish\n"
          ]
        }
      ]
    },
    {
      "cell_type": "code",
      "source": [
        "print(sea_creatures[-3])"
      ],
      "metadata": {
        "colab": {
          "base_uri": "https://localhost:8080/"
        },
        "id": "3NRbwA41otue",
        "outputId": "654bbdd2-e5b1-4178-d7c8-321fbabb99d3"
      },
      "execution_count": null,
      "outputs": [
        {
          "output_type": "stream",
          "name": "stdout",
          "text": [
            "squid\n"
          ]
        }
      ]
    },
    {
      "cell_type": "code",
      "source": [
        "print('Sammy is a ' + sea_creatures[0])"
      ],
      "metadata": {
        "colab": {
          "base_uri": "https://localhost:8080/"
        },
        "id": "ODNZpB31oxU3",
        "outputId": "998b9aac-3694-41a1-c766-eb8944a8cda4"
      },
      "execution_count": null,
      "outputs": [
        {
          "output_type": "stream",
          "name": "stdout",
          "text": [
            "Sammy is a shark\n"
          ]
        }
      ]
    },
    {
      "cell_type": "code",
      "source": [
        "sea_creatures[1] = 'octopus'\n",
        "print(sea_creatures)"
      ],
      "metadata": {
        "colab": {
          "base_uri": "https://localhost:8080/"
        },
        "id": "NhXc4LEppIyO",
        "outputId": "c34198f3-1b46-43b7-d68d-c1c69afd0b31"
      },
      "execution_count": null,
      "outputs": [
        {
          "output_type": "stream",
          "name": "stdout",
          "text": [
            "['shark', 'octopus', 'squid', 'mantis shrimp', 'anemone']\n"
          ]
        }
      ]
    },
    {
      "cell_type": "code",
      "source": [
        "sea_creatures[-3] = 'blobfish'\n",
        "print(sea_creatures)"
      ],
      "metadata": {
        "colab": {
          "base_uri": "https://localhost:8080/"
        },
        "id": "1T3BQTcqpXDn",
        "outputId": "101c2b66-0922-47dd-81db-3af5b62ae362"
      },
      "execution_count": null,
      "outputs": [
        {
          "output_type": "stream",
          "name": "stdout",
          "text": [
            "['shark', 'octopus', 'blobfish', 'mantis shrimp', 'anemone']\n"
          ]
        }
      ]
    },
    {
      "cell_type": "code",
      "source": [
        "print(sea_creatures[1:4])"
      ],
      "metadata": {
        "colab": {
          "base_uri": "https://localhost:8080/"
        },
        "id": "w2ITd3PGpbcG",
        "outputId": "c1af6ec3-34ce-4eed-92a7-5c79e4f5ec86"
      },
      "execution_count": null,
      "outputs": [
        {
          "output_type": "stream",
          "name": "stdout",
          "text": [
            "['octopus', 'blobfish', 'mantis shrimp']\n"
          ]
        }
      ]
    },
    {
      "cell_type": "code",
      "source": [
        "print(sea_creatures[:3])"
      ],
      "metadata": {
        "colab": {
          "base_uri": "https://localhost:8080/"
        },
        "id": "zGgTUwuLpqQv",
        "outputId": "1a66bd6d-9f37-452b-dc3a-73fd32dff66b"
      },
      "execution_count": null,
      "outputs": [
        {
          "output_type": "stream",
          "name": "stdout",
          "text": [
            "['shark', 'octopus', 'blobfish']\n"
          ]
        }
      ]
    },
    {
      "cell_type": "code",
      "source": [
        "print(sea_creatures[2:])"
      ],
      "metadata": {
        "colab": {
          "base_uri": "https://localhost:8080/"
        },
        "id": "mGY9YcNqpvyv",
        "outputId": "087ba4f4-1c1d-46c1-bf68-77c7a4d8144a"
      },
      "execution_count": null,
      "outputs": [
        {
          "output_type": "stream",
          "name": "stdout",
          "text": [
            "['blobfish', 'mantis shrimp', 'anemone']\n"
          ]
        }
      ]
    },
    {
      "cell_type": "code",
      "source": [
        "print(sea_creatures[-4:-2])\n",
        "print(sea_creatures[-3:])"
      ],
      "metadata": {
        "colab": {
          "base_uri": "https://localhost:8080/"
        },
        "id": "qhszX1RUp96O",
        "outputId": "dd83da0f-237d-45bd-d8d8-67073c357e94"
      },
      "execution_count": null,
      "outputs": [
        {
          "output_type": "stream",
          "name": "stdout",
          "text": [
            "['octopus', 'blobfish']\n",
            "['blobfish', 'mantis shrimp', 'anemone']\n"
          ]
        }
      ]
    },
    {
      "cell_type": "code",
      "source": [
        "numbers = [0, 1, 2, 3, 4, 5, 6, 7, 8, 9, 10, 11, 12]\n",
        "print(numbers[1:11:2])"
      ],
      "metadata": {
        "colab": {
          "base_uri": "https://localhost:8080/"
        },
        "id": "pPZobfZLqGRv",
        "outputId": "f8152869-190f-4ed5-fef9-703baf90c624"
      },
      "execution_count": null,
      "outputs": [
        {
          "output_type": "stream",
          "name": "stdout",
          "text": [
            "[1, 3, 5, 7, 9]\n"
          ]
        }
      ]
    },
    {
      "cell_type": "code",
      "source": [
        "print(numbers[::3])"
      ],
      "metadata": {
        "colab": {
          "base_uri": "https://localhost:8080/"
        },
        "id": "fzPWFsR5qPOW",
        "outputId": "ed1f07c5-f6bd-4493-85c1-36f011355227"
      },
      "execution_count": null,
      "outputs": [
        {
          "output_type": "stream",
          "name": "stdout",
          "text": [
            "[0, 3, 6, 9, 12]\n"
          ]
        }
      ]
    },
    {
      "cell_type": "code",
      "source": [
        "sea_creatures = ['shark', 'octopus', 'blobfish', 'mantis shrimp', 'anemone']\n",
        "oceans = ['Pacific', 'Atlantic', 'Indian', 'Southern', 'Arctic']\n",
        "print(sea_creatures + oceans)"
      ],
      "metadata": {
        "colab": {
          "base_uri": "https://localhost:8080/"
        },
        "id": "mzjwG8zBqXKG",
        "outputId": "dccc760e-47d1-4ac0-c48f-31d3f2026c20"
      },
      "execution_count": null,
      "outputs": [
        {
          "output_type": "stream",
          "name": "stdout",
          "text": [
            "['shark', 'octopus', 'blobfish', 'mantis shrimp', 'anemone', 'Pacific', 'Atlantic', 'Indian', 'Southern', 'Arctic']\n"
          ]
        }
      ]
    },
    {
      "cell_type": "code",
      "source": [
        "sea_creatures = sea_creatures + ['yeti crab']\n",
        "print (sea_creatures)"
      ],
      "metadata": {
        "colab": {
          "base_uri": "https://localhost:8080/"
        },
        "id": "fZGGtzK2qf22",
        "outputId": "d656bd1b-e498-4a19-b09a-662f12fdb164"
      },
      "execution_count": null,
      "outputs": [
        {
          "output_type": "stream",
          "name": "stdout",
          "text": [
            "['shark', 'octopus', 'blobfish', 'mantis shrimp', 'anemone', 'yeti crab']\n"
          ]
        }
      ]
    },
    {
      "cell_type": "code",
      "source": [
        "print(sea_creatures * 2)\n",
        "print(oceans * 3)"
      ],
      "metadata": {
        "colab": {
          "base_uri": "https://localhost:8080/"
        },
        "id": "TpFi6-J0qlje",
        "outputId": "3baf06bd-2946-4298-8980-c28e1141677f"
      },
      "execution_count": null,
      "outputs": [
        {
          "output_type": "stream",
          "name": "stdout",
          "text": [
            "['shark', 'octopus', 'blobfish', 'mantis shrimp', 'anemone', 'yeti crab', 'shark', 'octopus', 'blobfish', 'mantis shrimp', 'anemone', 'yeti crab']\n",
            "['Pacific', 'Atlantic', 'Indian', 'Southern', 'Arctic', 'Pacific', 'Atlantic', 'Indian', 'Southern', 'Arctic', 'Pacific', 'Atlantic', 'Indian', 'Southern', 'Arctic']\n"
          ]
        }
      ]
    },
    {
      "cell_type": "code",
      "source": [
        "for x in range(1,4):\n",
        "  sea_creatures += ['fish']\n",
        "  print(sea_creatures)"
      ],
      "metadata": {
        "colab": {
          "base_uri": "https://localhost:8080/"
        },
        "id": "kneXVGXgqpd4",
        "outputId": "703b0029-85ad-4347-b0bc-2d10241f659b"
      },
      "execution_count": null,
      "outputs": [
        {
          "output_type": "stream",
          "name": "stdout",
          "text": [
            "['shark', 'octopus', 'blobfish', 'mantis shrimp', 'anemone', 'yeti crab', 'fish']\n",
            "['shark', 'octopus', 'blobfish', 'mantis shrimp', 'anemone', 'yeti crab', 'fish', 'fish']\n",
            "['shark', 'octopus', 'blobfish', 'mantis shrimp', 'anemone', 'yeti crab', 'fish', 'fish', 'fish']\n"
          ]
        }
      ]
    },
    {
      "cell_type": "code",
      "source": [
        "sharks = ['shark']\n",
        "for x in range(1,4):\n",
        "  sharks *= 2\n",
        "  print(sharks)"
      ],
      "metadata": {
        "colab": {
          "base_uri": "https://localhost:8080/"
        },
        "id": "JA4SQ01hqxu-",
        "outputId": "70a8336a-fbd6-4c52-c31d-5635080c612a"
      },
      "execution_count": null,
      "outputs": [
        {
          "output_type": "stream",
          "name": "stdout",
          "text": [
            "['shark', 'shark']\n",
            "['shark', 'shark', 'shark', 'shark']\n",
            "['shark', 'shark', 'shark', 'shark', 'shark', 'shark', 'shark', 'shark']\n"
          ]
        }
      ]
    },
    {
      "cell_type": "code",
      "source": [
        "sea_creatures =['shark', 'octopus', 'blobfish', 'mantis shrimp', 'anemone', 'yeti crab']\n",
        "del sea_creatures[1]\n",
        "print(sea_creatures)"
      ],
      "metadata": {
        "colab": {
          "base_uri": "https://localhost:8080/"
        },
        "id": "KPbzhAzDq9TN",
        "outputId": "a69a14b0-d836-45de-e533-b4702041a730"
      },
      "execution_count": null,
      "outputs": [
        {
          "output_type": "stream",
          "name": "stdout",
          "text": [
            "['shark', 'blobfish', 'mantis shrimp', 'anemone', 'yeti crab']\n"
          ]
        }
      ]
    },
    {
      "cell_type": "code",
      "source": [
        "sea_creatures =['shark', 'octopus', 'blobfish', 'mantis shrimp', 'anemone', 'yeti crab']\n",
        "del sea_creatures[1:4]\n",
        "print(sea_creatures)"
      ],
      "metadata": {
        "colab": {
          "base_uri": "https://localhost:8080/"
        },
        "id": "VIwzRFsTrPd1",
        "outputId": "b59967fc-a937-484b-fce3-2b0514f3ec60"
      },
      "execution_count": null,
      "outputs": [
        {
          "output_type": "stream",
          "name": "stdout",
          "text": [
            "['shark', 'anemone', 'yeti crab']\n"
          ]
        }
      ]
    },
    {
      "cell_type": "code",
      "source": [
        "sea_names = [['shark', 'octopus', 'squid', 'mantis shrimp'],['Sammy', 'Jesse', 'Drew', 'Jamie']]\n",
        "print(sea_names[1][0])\n",
        "print(sea_names[0][0])"
      ],
      "metadata": {
        "colab": {
          "base_uri": "https://localhost:8080/"
        },
        "id": "GdkCTHHMrV5d",
        "outputId": "83b61915-75c2-4893-c300-32c831946bf7"
      },
      "execution_count": null,
      "outputs": [
        {
          "output_type": "stream",
          "name": "stdout",
          "text": [
            "Sammy\n",
            "shark\n"
          ]
        }
      ]
    },
    {
      "cell_type": "code",
      "source": [
        "fish = ['barracuda','cod','devil ray','eel']\n",
        "fish.append('flounder')\n",
        "print(fish)"
      ],
      "metadata": {
        "colab": {
          "base_uri": "https://localhost:8080/"
        },
        "id": "hT3tD10srxy2",
        "outputId": "8129c6c0-1317-426b-ff4e-47e7d31cacc2"
      },
      "execution_count": null,
      "outputs": [
        {
          "output_type": "stream",
          "name": "stdout",
          "text": [
            "['barracuda', 'cod', 'devil ray', 'eel', 'flounder']\n"
          ]
        }
      ]
    },
    {
      "cell_type": "code",
      "source": [
        "fish.insert(0,'anchovy')\n",
        "print(fish)"
      ],
      "metadata": {
        "colab": {
          "base_uri": "https://localhost:8080/"
        },
        "id": "oeGaNl-pr6-F",
        "outputId": "6c34986a-d22c-4bff-fa15-3261602f1d12"
      },
      "execution_count": null,
      "outputs": [
        {
          "output_type": "stream",
          "name": "stdout",
          "text": [
            "['anchovy', 'barracuda', 'cod', 'devil ray', 'eel', 'flounder']\n"
          ]
        }
      ]
    },
    {
      "cell_type": "code",
      "source": [
        "more_fish = ['goby','herring','ide','kissing gourami']\n",
        "fish.extend(more_fish)\n",
        "print(fish)"
      ],
      "metadata": {
        "colab": {
          "base_uri": "https://localhost:8080/"
        },
        "id": "MF6tUmNVsCc0",
        "outputId": "394714be-f72e-4832-8b20-d3a6f7f71515"
      },
      "execution_count": null,
      "outputs": [
        {
          "output_type": "stream",
          "name": "stdout",
          "text": [
            "['anchovy', 'barracuda', 'cod', 'devil ray', 'eel', 'flounder', 'goby', 'herring', 'ide', 'kissing gourami']\n"
          ]
        }
      ]
    },
    {
      "cell_type": "code",
      "source": [
        "fish.remove('kissing gourami')\n",
        "print(fish)"
      ],
      "metadata": {
        "colab": {
          "base_uri": "https://localhost:8080/"
        },
        "id": "yUh0QBOzsObW",
        "outputId": "fb0bcc71-04bf-44d9-b5cc-20e95bce6a9b"
      },
      "execution_count": null,
      "outputs": [
        {
          "output_type": "stream",
          "name": "stdout",
          "text": [
            "['anchovy', 'barracuda', 'cod', 'devil ray', 'eel', 'flounder', 'goby', 'herring', 'ide']\n"
          ]
        }
      ]
    },
    {
      "cell_type": "code",
      "source": [
        "print(fish.pop(3))\n",
        "print(fish)"
      ],
      "metadata": {
        "colab": {
          "base_uri": "https://localhost:8080/"
        },
        "id": "uqusBmpYsYC0",
        "outputId": "7fdec61b-08ae-4271-85e3-9c908c73a499"
      },
      "execution_count": null,
      "outputs": [
        {
          "output_type": "stream",
          "name": "stdout",
          "text": [
            "devil ray\n",
            "['anchovy', 'barracuda', 'cod', 'eel', 'flounder', 'goby', 'herring', 'ide']\n"
          ]
        }
      ]
    },
    {
      "cell_type": "code",
      "source": [
        "print(fish)\n",
        "print(fish.index('herring'))"
      ],
      "metadata": {
        "colab": {
          "base_uri": "https://localhost:8080/"
        },
        "id": "ArWtnM4-tPys",
        "outputId": "83ad6017-15fe-4f9b-9662-668ed2b2c790"
      },
      "execution_count": null,
      "outputs": [
        {
          "output_type": "stream",
          "name": "stdout",
          "text": [
            "['anchovy', 'barracuda', 'cod', 'eel', 'flounder', 'goby', 'herring', 'ide']\n",
            "6\n"
          ]
        }
      ]
    },
    {
      "cell_type": "code",
      "source": [
        "fish_2 = fish.copy()\n",
        "print(fish_2)"
      ],
      "metadata": {
        "colab": {
          "base_uri": "https://localhost:8080/"
        },
        "id": "7b04MXqothOm",
        "outputId": "70f1ea61-47ad-4173-f1cc-c968fe05f0da"
      },
      "execution_count": null,
      "outputs": [
        {
          "output_type": "stream",
          "name": "stdout",
          "text": [
            "['anchovy', 'barracuda', 'cod', 'eel', 'flounder', 'goby', 'herring', 'ide']\n"
          ]
        }
      ]
    },
    {
      "cell_type": "code",
      "source": [
        "fish.reverse()\n",
        "print(fish)"
      ],
      "metadata": {
        "colab": {
          "base_uri": "https://localhost:8080/"
        },
        "id": "VBo-Vxm-tjWM",
        "outputId": "a937784e-c2b4-40b7-db56-f63874a3f98f"
      },
      "execution_count": null,
      "outputs": [
        {
          "output_type": "stream",
          "name": "stdout",
          "text": [
            "['ide', 'herring', 'goby', 'flounder', 'eel', 'cod', 'barracuda', 'anchovy']\n"
          ]
        }
      ]
    },
    {
      "cell_type": "code",
      "source": [
        "print(fish.count('goby'))"
      ],
      "metadata": {
        "colab": {
          "base_uri": "https://localhost:8080/"
        },
        "id": "jOHmWkn-tpgc",
        "outputId": "776aa112-59e0-47ad-e9d3-2a1a9c89bbe8"
      },
      "execution_count": null,
      "outputs": [
        {
          "output_type": "stream",
          "name": "stdout",
          "text": [
            "1\n"
          ]
        }
      ]
    },
    {
      "cell_type": "code",
      "source": [
        "fish_ages = [1,2,4,3,2,1,1,2]\n",
        "print(fish_ages.count(1))"
      ],
      "metadata": {
        "colab": {
          "base_uri": "https://localhost:8080/"
        },
        "id": "-q155Zektp9M",
        "outputId": "5fa6cbfc-4a58-4115-ce5a-98349f16c1b1"
      },
      "execution_count": null,
      "outputs": [
        {
          "output_type": "stream",
          "name": "stdout",
          "text": [
            "3\n"
          ]
        }
      ]
    },
    {
      "cell_type": "code",
      "source": [
        "fish_ages.sort()\n",
        "print(fish_ages)"
      ],
      "metadata": {
        "colab": {
          "base_uri": "https://localhost:8080/"
        },
        "id": "A83ZdTRZuHaN",
        "outputId": "d41382cc-7f82-464b-91bb-a47566e9526f"
      },
      "execution_count": null,
      "outputs": [
        {
          "output_type": "stream",
          "name": "stdout",
          "text": [
            "[1, 1, 1, 2, 2, 2, 3, 4]\n"
          ]
        }
      ]
    },
    {
      "cell_type": "code",
      "source": [
        "fish.clear()\n",
        "print(fish)"
      ],
      "metadata": {
        "colab": {
          "base_uri": "https://localhost:8080/"
        },
        "id": "_T8CTTlVuNP7",
        "outputId": "a82a9f90-2a12-49e4-b90b-25d22a147bed"
      },
      "execution_count": null,
      "outputs": [
        {
          "output_type": "stream",
          "name": "stdout",
          "text": [
            "[]\n"
          ]
        }
      ]
    },
    {
      "cell_type": "code",
      "source": [
        "shark_letters = [letter for letter in 'shark']\n",
        "print(shark_letters)"
      ],
      "metadata": {
        "colab": {
          "base_uri": "https://localhost:8080/"
        },
        "id": "nniHk2rUuR0a",
        "outputId": "8aa38a08-d168-4eba-c453-a24504818c7b"
      },
      "execution_count": null,
      "outputs": [
        {
          "output_type": "stream",
          "name": "stdout",
          "text": [
            "['s', 'h', 'a', 'r', 'k']\n"
          ]
        }
      ]
    },
    {
      "cell_type": "code",
      "source": [
        "shark_letters = []\n",
        "for letter in 'shark':\n",
        "  shark_letters.append(letter)\n",
        "print(shark_letters)"
      ],
      "metadata": {
        "colab": {
          "base_uri": "https://localhost:8080/"
        },
        "id": "t2bNm1axv6PK",
        "outputId": "3eb83434-95bf-43b6-b75a-a472730783ab"
      },
      "execution_count": null,
      "outputs": [
        {
          "output_type": "stream",
          "name": "stdout",
          "text": [
            "['s', 'h', 'a', 'r', 'k']\n"
          ]
        }
      ]
    },
    {
      "cell_type": "code",
      "source": [
        "fish_tuple = ('blowfish', 'clownfish', 'catfish', 'octopus')\n",
        "fish_list = [fish for fish in fish_tuple if fish != 'octopus']\n",
        "print(fish_list)"
      ],
      "metadata": {
        "colab": {
          "base_uri": "https://localhost:8080/"
        },
        "id": "5p5Jp1TkwF-M",
        "outputId": "3673c6bd-8047-4dee-84d1-5c4e073070a4"
      },
      "execution_count": null,
      "outputs": [
        {
          "output_type": "stream",
          "name": "stdout",
          "text": [
            "['blowfish', 'clownfish', 'catfish']\n"
          ]
        }
      ]
    },
    {
      "cell_type": "code",
      "source": [
        "number_list = [x ** 2 for x in range(10) if x % 2 == 0]\n",
        "print(number_list)"
      ],
      "metadata": {
        "colab": {
          "base_uri": "https://localhost:8080/"
        },
        "id": "DMhwAwJ9wWpB",
        "outputId": "c153e207-4753-43ce-8b3a-f6458602eb5d"
      },
      "execution_count": null,
      "outputs": [
        {
          "output_type": "stream",
          "name": "stdout",
          "text": [
            "[0, 4, 16, 36, 64]\n"
          ]
        }
      ]
    },
    {
      "cell_type": "code",
      "source": [
        "number_list = [x for x in range(10)]\n",
        "print(number_list)"
      ],
      "metadata": {
        "colab": {
          "base_uri": "https://localhost:8080/"
        },
        "id": "yRWii3sKwn85",
        "outputId": "59e566e6-3d0e-4609-b0f8-be44a29336fc"
      },
      "execution_count": null,
      "outputs": [
        {
          "output_type": "stream",
          "name": "stdout",
          "text": [
            "[0, 1, 2, 3, 4, 5, 6, 7, 8, 9]\n"
          ]
        }
      ]
    },
    {
      "cell_type": "code",
      "source": [
        "number_list = [x for x in range(10) if x % 2 == 0]\n",
        "print(number_list)"
      ],
      "metadata": {
        "colab": {
          "base_uri": "https://localhost:8080/"
        },
        "id": "K9OguD5OwsnR",
        "outputId": "ea832130-f985-40b7-8629-1405d23e5b56"
      },
      "execution_count": null,
      "outputs": [
        {
          "output_type": "stream",
          "name": "stdout",
          "text": [
            "[0, 2, 4, 6, 8]\n"
          ]
        }
      ]
    },
    {
      "cell_type": "code",
      "source": [
        "number_list = [x ** 2 for x in range(10) if x % 2 == 0]\n",
        "print(number_list)"
      ],
      "metadata": {
        "colab": {
          "base_uri": "https://localhost:8080/"
        },
        "id": "4lRmdnQ_w7dB",
        "outputId": "4306a8c9-9736-4d7e-9869-57d4170f600d"
      },
      "execution_count": null,
      "outputs": [
        {
          "output_type": "stream",
          "name": "stdout",
          "text": [
            "[0, 4, 16, 36, 64]\n"
          ]
        }
      ]
    },
    {
      "cell_type": "code",
      "source": [
        "number_list = [x for x in range(100) if x % 3 == 0 if x % 5 == 0]\n",
        "print(number_list)"
      ],
      "metadata": {
        "colab": {
          "base_uri": "https://localhost:8080/"
        },
        "id": "kTO4CBISxD4h",
        "outputId": "1f1981fb-d500-4170-e13e-8fed8dfb4e14"
      },
      "execution_count": null,
      "outputs": [
        {
          "output_type": "stream",
          "name": "stdout",
          "text": [
            "[0, 15, 30, 45, 60, 75, 90]\n"
          ]
        }
      ]
    },
    {
      "cell_type": "code",
      "source": [
        "my_list = []\n",
        "for x in [20, 40, 60]:\n",
        "  for y in [2, 4, 6]:\n",
        "    my_list.append(x * y)\n",
        "print(my_list)"
      ],
      "metadata": {
        "colab": {
          "base_uri": "https://localhost:8080/"
        },
        "id": "FXmABpLhxNLg",
        "outputId": "93ade41d-ee46-4f83-faf6-30ed4152d334"
      },
      "execution_count": null,
      "outputs": [
        {
          "output_type": "stream",
          "name": "stdout",
          "text": [
            "[40, 80, 120, 80, 160, 240, 120, 240, 360]\n"
          ]
        }
      ]
    },
    {
      "cell_type": "code",
      "source": [
        "my_list = [x * y for x in [20, 40, 60] for y in [2, 4, 6]]\n",
        "print(my_list)"
      ],
      "metadata": {
        "colab": {
          "base_uri": "https://localhost:8080/"
        },
        "id": "4Q124uS2xV2y",
        "outputId": "9435d473-954f-4917-d94f-0dea5f301820"
      },
      "execution_count": null,
      "outputs": [
        {
          "output_type": "stream",
          "name": "stdout",
          "text": [
            "[40, 80, 120, 80, 160, 240, 120, 240, 360]\n"
          ]
        }
      ]
    },
    {
      "cell_type": "code",
      "source": [],
      "metadata": {
        "id": "eZc4db1YxeVx"
      },
      "execution_count": null,
      "outputs": []
    }
  ]
}