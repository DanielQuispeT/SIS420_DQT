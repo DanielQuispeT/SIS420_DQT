{
 "cells": [
  {
   "cell_type": "markdown",
   "metadata": {},
   "source": [
    "# Laboratorio 9, Rendimiento de los estudiantes en los exámenes\n",
    "El dataset esta [aqui](https://www.kaggle.com/datasets/whenamancodes/students-performance-in-exams)"
   ]
  },
  {
   "cell_type": "code",
   "execution_count": 2,
   "metadata": {},
   "outputs": [],
   "source": [
    "# utilizado para manejos de directorios y rutas\n",
    "import os\n",
    "\n",
    "# Computacion vectorial y cientifica para python\n",
    "import numpy as np\n",
    "import pandas as pd\n",
    "\n",
    "# Librerias para graficación (trazado de gráficos)\n",
    "from matplotlib import pyplot\n",
    "from mpl_toolkits.mplot3d import Axes3D  # Necesario para graficar superficies 3D\n",
    "\n",
    "# llama a matplotlib a embeber graficas dentro de los cuadernillos\n",
    "%matplotlib inline"
   ]
  },
  {
   "cell_type": "markdown",
   "metadata": {},
   "source": [
    "## 2 Regresión lineal con multiples variables\n",
    "\n",
    "Se implementa la regresion lineal multivariable la nota de un estudiante. El archivo `Datasets/exams.csv` contiene un conjunto de entrenamiento de datos consiste en las calificaciones obtenidas por los estudiantes en varias materias. La primera columan es el genero, la segunda la raza/etnia, la tercera el nivel de educacion, la cuarta el tipo de almuerzo, la quinta es la preparacion para el examen, la sexta, septima y octava son las calificaciones de matematicas, lectura y ecritura respectivamente.\n",
    "\n",
    "<a id=\"section4\"></a>\n",
    "### 2.1 Normalización de caracteristicas\n",
    "\n",
    "Al visualizar los datos se puede observar que las caracteristicas tienen diferentes magnitudes, por lo cual se debe transformar cada valor en una escala de valores similares, esto con el fin de que el descenso por el gradiente pueda converger mas rapidamente."
   ]
  },
  {
   "cell_type": "code",
   "execution_count": 19,
   "metadata": {},
   "outputs": [],
   "source": [
    "# Adecuarmos el data set, los textos cambiamos a numero\n",
    "data = pd.read_csv('Data/exams.csv', sep = ',')\n",
    "columnas = ['genero', 'raza', 'educacion', 'almuerzo', 'preparacion', 'matematicas', 'lectura', 'escritura']\n",
    "data.columns = columnas\n",
    "\n",
    "generoVU = list(data[columnas[0]].unique())\n",
    "razaVU = list(data[columnas[1]].unique())\n",
    "educacionVU = list(data[columnas[2]].unique())\n",
    "almuerzoVU = list(data[columnas[3]].unique())\n",
    "preparacionVU = list(data[columnas[4]].unique())\n",
    "\n",
    "data[columnas[0]] = data[columnas[0]].map({generoVU[0]: 1, generoVU[1]: 0})\n",
    "data[columnas[1]] = data[columnas[1]].map({razaVU[0]: 10, razaVU[1]: 20, razaVU[2]: 30, razaVU[3]: 40, razaVU[4]: 50})\n",
    "data[columnas[2]] = data[columnas[2]].map({educacionVU[0]: 15, educacionVU[1]: 25, educacionVU[2]: 35, educacionVU[3]: 45, educacionVU[4]: 55, educacionVU[5]: 65})\n",
    "data[columnas[3]] = data[columnas[3]].map({almuerzoVU[0]: 11, almuerzoVU[1] : 22,})\n",
    "data[columnas[4]] = data[columnas[4]].map({preparacionVU[0]: 0, preparacionVU[1]: 1})\n",
    "\n",
    "# El dataFrame lo convertimos a un array de Numpy para poder trabajar\n",
    "dataN = data.to_numpy()"
   ]
  },
  {
   "cell_type": "code",
   "execution_count": 38,
   "metadata": {},
   "outputs": [
    {
     "name": "stdout",
     "output_type": "stream",
     "text": [
      "  X[:,0] X[:, 1]    y_Math    y_Read   y_Write\n",
      "--------------------------------------------------\n",
      "       1      10        67        67        63\n",
      "       0      20        40        59        55\n",
      "       1      30        59        60        50\n",
      "       1      40        77        78        68\n",
      "       1      30        78        73        68\n",
      "       0      20        63        77        76\n",
      "       0      10        62        59        63\n",
      "       1      30        93        88        84\n",
      "       1      20        63        56        65\n",
      "       1      50        47        42        45\n"
     ]
    }
   ],
   "source": [
    "# Cargar datos\n",
    "X = dataN[:, :5]\n",
    "y1 = dataN[:, 5] #Matenaticas\n",
    "y2 = dataN[:, 6] #Lectura\n",
    "y3 = dataN[:, 7] #Escritura\n",
    "m = y1.size\n",
    "\n",
    "# imprimir algunos puntos de datos\n",
    "print('{:>8s}{:>8s}{:>10s}{:>10s}{:>10s}'.format('X[:,0]', 'X[:, 1]', 'y_Math', 'y_Read', 'y_Write'))\n",
    "print('-'*50)\n",
    "for i in range(10):\n",
    "    print('{:8.0f}{:8.0f}{:10.0f}{:10.0f}{:10.0f}'.format(X[i, 0], X[i, 1], y1[i], y2[i], y3[i]))"
   ]
  },
  {
   "cell_type": "markdown",
   "metadata": {},
   "source": [
    "La desviación estándar es una forma de medir cuánta variación hay en el rango de valores de una característica en particular (la mayoría de los puntos caeran en un rango de ± 2 en relación a la desviaciones estándar de la media); esta es una alternativa a tomar el rango de valores (max-min). En `numpy`, se puede usar la función `std` para calcular la desviacion estandar. \n",
    "\n",
    "Por ejemplo, la caracteristica`X[:, 0]` contiene todos los valores de $x_1$ (tamaño de las casas) en el conjunto de entrenamiento, entonces `np.std(X[:, 0])` calcula la desviacion estandar de los tamaños de las casas.\n",
    "En el momento en que se llama a la función `featureNormalize`, la columna adicional de unos correspondiente a $ x_0 = 1 $ aún no se ha agregado a $ X $. \n",
    "\n",
    "<div class=\"alert alert-block alert-warning\">\n",
    "**Notas para la implementación:** Cuando se normalize una caracteristica, es importante almacenar los valores usados para la normalización - el valor de la media y el valor de la desviación estandar usado para los calculos. Despues de aprender los parametros del modelo, se deseara predecir los precios de casas que no se han visto antes. Dado un nuevo valor de x (area del living room y el numero de dormitorios), primero se debe normalizar x usando la media y la desviacion estandar que se empleo anteriormente en el conjunto de entrenamiento para entrenar el modelo.\n",
    "</div>\n",
    "<a id=\"featureNormalize\"></a>"
   ]
  },
  {
   "cell_type": "code",
   "execution_count": 21,
   "metadata": {},
   "outputs": [],
   "source": [
    "def  featureNormalize(X):\n",
    "    X_norm = X.copy()\n",
    "    mu = np.zeros(X.shape[1])\n",
    "    sigma = np.zeros(X.shape[1])\n",
    "\n",
    "    mu = np.mean(X, axis = 0)\n",
    "    sigma = np.std(X, axis = 0)\n",
    "    X_norm = (X - mu) / sigma\n",
    "    \n",
    "    return X_norm, mu, sigma"
   ]
  },
  {
   "cell_type": "code",
   "execution_count": 39,
   "metadata": {},
   "outputs": [
    {
     "name": "stdout",
     "output_type": "stream",
     "text": [
      "[[ 1 10 15 11  0]\n",
      " [ 0 20 25 22  1]\n",
      " [ 1 30 35 22  1]\n",
      " ...\n",
      " [ 0 50 25 22  1]\n",
      " [ 0 50 35 11  1]\n",
      " [ 1 10 35 11  0]]\n",
      "Media calculada:  [ 0.517 34.31  35.42  14.828  0.665]\n",
      "Desviación estandar calculada:  [ 0.49971092 13.74495908 15.09382655  5.23969617  0.47199047]\n",
      "[[ 0.96655883 -1.76864841 -1.35287099 -0.73057671 -1.40892676]\n",
      " [-1.03459817 -1.04110896 -0.69034847  1.36878165  0.7097601 ]\n",
      " [ 0.96655883 -0.3135695  -0.02782595  1.36878165  0.7097601 ]\n",
      " ...\n",
      " [-1.03459817  1.1415094  -0.69034847  1.36878165  0.7097601 ]\n",
      " [-1.03459817  1.1415094  -0.02782595 -0.73057671  0.7097601 ]\n",
      " [ 0.96655883 -1.76864841 -0.02782595 -0.73057671 -1.40892676]]\n"
     ]
    }
   ],
   "source": [
    "# llama featureNormalize con los datos cargados\n",
    "X_norm, mu, sigma = featureNormalize(X)\n",
    "\n",
    "print(X)\n",
    "print('Media calculada: ', mu)\n",
    "print('Desviación estandar calculada: ', sigma)\n",
    "print(X_norm)"
   ]
  },
  {
   "cell_type": "markdown",
   "metadata": {},
   "source": [
    "Despues de `featureNormalize` la funcion es provada, se añade el temino de interseccion a `X_norm`:"
   ]
  },
  {
   "cell_type": "code",
   "execution_count": 40,
   "metadata": {},
   "outputs": [],
   "source": [
    "# Añade el termino de interseccion a X (Columna de unos para X0)\n",
    "X = np.concatenate([np.ones((m, 1)), X_norm], axis=1)"
   ]
  },
  {
   "cell_type": "code",
   "execution_count": 41,
   "metadata": {},
   "outputs": [
    {
     "name": "stdout",
     "output_type": "stream",
     "text": [
      "[[ 1.          0.96655883 -1.76864841 -1.35287099 -0.73057671 -1.40892676]\n",
      " [ 1.         -1.03459817 -1.04110896 -0.69034847  1.36878165  0.7097601 ]\n",
      " [ 1.          0.96655883 -0.3135695  -0.02782595  1.36878165  0.7097601 ]\n",
      " ...\n",
      " [ 1.         -1.03459817  1.1415094  -0.69034847  1.36878165  0.7097601 ]\n",
      " [ 1.         -1.03459817  1.1415094  -0.02782595 -0.73057671  0.7097601 ]\n",
      " [ 1.          0.96655883 -1.76864841 -0.02782595 -0.73057671 -1.40892676]]\n"
     ]
    }
   ],
   "source": [
    "print(X)"
   ]
  },
  {
   "cell_type": "markdown",
   "metadata": {},
   "source": [
    "<a id=\"section5\"></a>\n",
    "### 2.2 Descenso por el gradiente\n",
    "\n",
    "En el ejemplo anterior se implemento el descenso por el gradiente para un problema de regresion univariable. La unica diferencia es que ahora existe una caracteristica adicional en la matriz $X$. La función de hipótesis y la regla de actualización del descenso del gradiente por lotes permanecen sin cambios.\n",
    "\n",
    "La implementacion de las funciones `computeCostMulti` y `gradientDescentMulti` son similares a la funcion de costo y función de descenso por el gradiente de la regresión lineal multiple es similar al de la regresion lineal multivariable. Es importante garantizar que el codigo soporte cualquier numero de caracteristicas y esten bien vectorizadas.\n",
    "\n",
    "Se puede utilizar `shape`, propiedad de los arrays `numpy`, para identificar cuantas caracteristicas estan consideradas en el dataset.\n",
    "\n",
    "<div class=\"alert alert-block alert-warning\">\n",
    "**Nota de implementación:** En el caso de multivariables, la función de costo puede se escrita considerando la forma vectorizada de la siguiente manera:\n",
    "\n",
    "$$ J(\\theta) = \\frac{1}{2m}(X\\theta - \\vec{y})^T(X\\theta - \\vec{y}) $$\n",
    "\n",
    "donde:\n",
    "\n",
    "$$ X = \\begin{pmatrix}\n",
    "          - (x^{(1)})^T - \\\\\n",
    "          - (x^{(2)})^T - \\\\\n",
    "          \\vdots \\\\\n",
    "          - (x^{(m)})^T - \\\\ \\\\\n",
    "        \\end{pmatrix} \\qquad \\mathbf{y} = \\begin{bmatrix} y^{(1)} \\\\ y^{(2)} \\\\ \\vdots \\\\ y^{(m)} \\\\\\end{bmatrix}$$\n",
    "\n",
    "La version vectorizada es eficiente cuando se trabaja con herramientas de calculo numericos computacional como `numpy`. \n",
    "</div>\n",
    "\n",
    "<a id=\"computeCostMulti\"></a>"
   ]
  },
  {
   "cell_type": "code",
   "execution_count": 25,
   "metadata": {},
   "outputs": [],
   "source": [
    "def computeCostMulti(X, y, theta):\n",
    "    # Inicializa algunos valores utiles\n",
    "    m = y.shape[0] # numero de ejemplos de entrenamiento\n",
    "    \n",
    "    J = 0\n",
    "    \n",
    "    h = np.dot(X, theta)\n",
    "    \n",
    "    J = (1/(2 * m)) * np.sum(np.square(np.dot(X, theta) - y))\n",
    "    \n",
    "    return J\n"
   ]
  },
  {
   "cell_type": "code",
   "execution_count": 26,
   "metadata": {},
   "outputs": [],
   "source": [
    "def gradientDescentMulti(X, y, theta, alpha, num_iters):\n",
    "    \n",
    "    # Inicializa algunos valores \n",
    "    m = y.shape[0] # numero de ejemplos de entrenamiento\n",
    "    \n",
    "    # realiza una copia de theta, el cual será acutalizada por el descenso por el gradiente\n",
    "    theta = theta.copy()\n",
    "    \n",
    "    J_history = []\n",
    "    \n",
    "    for i in range(num_iters):\n",
    "        theta = theta - (alpha / m) * (np.dot(X, theta) - y).dot(X)\n",
    "        J_history.append(computeCostMulti(X, y, theta))\n",
    "    \n",
    "    return theta, J_history"
   ]
  },
  {
   "cell_type": "markdown",
   "metadata": {},
   "source": [
    "#### 3.2.1 Seleccionando coheficientes de aprendizaje\n"
   ]
  },
  {
   "cell_type": "code",
   "execution_count": 43,
   "metadata": {},
   "outputs": [
    {
     "name": "stdout",
     "output_type": "stream",
     "text": [
      "(Matematicas) theta calculado por el descenso por el gradiente: [66.23147014  3.24265652 -2.15960107  2.87406588 -5.70886497 -2.01152912]\n",
      "(Lectura) theta calculado por el descenso por el gradiente: [68.83101245 -2.68919851 -1.91870316  2.77439859 -3.96489572 -3.38721073]\n",
      "(Escritura) theta calculado por el descenso por el gradiente: [67.57014465 -3.72449022 -2.4278633   3.6898618  -4.5992743  -4.64700341]\n",
      "La nota que se tiene el estudiante es: (usando el descenso por el gradiente): 63\n",
      "La nota que se tiene el estudiante es: (usando el descenso por el gradiente): 73\n",
      "La nota que se tiene el estudiante es: (usando el descenso por el gradiente): 73\n"
     ]
    }
   ],
   "source": [
    "# Elegir algun valor para alpha (probar varias alternativas)\n",
    "alpha = 0.0001\n",
    "num_iters = 60000\n",
    "\n",
    "# inicializa theta y ejecuta el descenso por el gradiente\n",
    "theta = np.zeros(6)\n",
    "theta1, J_history1 = gradientDescentMulti(X, y1, theta, alpha, num_iters)\n",
    "theta2, J_history2 = gradientDescentMulti(X, y2, theta, alpha, num_iters)\n",
    "theta3, J_history3 = gradientDescentMulti(X, y3, theta, alpha, num_iters)\n",
    "\n",
    "# Muestra los resultados del descenso por el gradiente\n",
    "print('(Matematicas) theta calculado por el descenso por el gradiente: {:s}'.format(str(theta1)))\n",
    "print('(Lectura) theta calculado por el descenso por el gradiente: {:s}'.format(str(theta2)))\n",
    "print('(Escritura) theta calculado por el descenso por el gradiente: {:s}'.format(str(theta3)))\n",
    "\n",
    "X_array1 = [1, 0, 10, 65, 22, 1]\n",
    "X_array1[1:6] = (X_array1[1:6] - mu) / sigma\n",
    "price1 = np.dot(X_array1, theta1)   # Se debe cambiar esto\n",
    "print('La nota que se tiene el estudiante es: (usando el descenso por el gradiente): {:.0f}'.format(price1))\n",
    "\n",
    "X_array2 = [1, 0, 10, 65, 22, 1]\n",
    "X_array2[1:6] = (X_array2[1:6] - mu) / sigma\n",
    "price2 = np.dot(X_array2, theta2)   # Se debe cambiar esto\n",
    "print('La nota que se tiene el estudiante es: (usando el descenso por el gradiente): {:.0f}'.format(price2))\n",
    "\n",
    "X_array3 = [1, 0, 10, 65, 22, 1]\n",
    "X_array3[1:6] = (X_array3[1:6] - mu) / sigma\n",
    "price3 = np.dot(X_array3, theta3)   # Se debe cambiar esto\n",
    "print('La nota que se tiene el estudiante es: (usando el descenso por el gradiente): {:.0f}'.format(price3))\n"
   ]
  },
  {
   "cell_type": "code",
   "execution_count": 44,
   "metadata": {},
   "outputs": [
    {
     "data": {
      "text/plain": [
       "Text(0, 0.5, 'Costo J')"
      ]
     },
     "execution_count": 44,
     "metadata": {},
     "output_type": "execute_result"
    },
    {
     "data": {
      "image/png": "[encoded data removed]",
      "text/plain": [
       "<Figure size 640x480 with 1 Axes>"
      ]
     },
     "metadata": {},
     "output_type": "display_data"
    }
   ],
   "source": [
    "# Grafica la convergencia del costo\n",
    "# Matematicas\n",
    "pyplot.plot(np.arange(len(J_history1)), J_history1, lw=1)\n",
    "pyplot.xlabel('Numero de iteraciones')\n",
    "pyplot.ylabel('Costo J')\n",
    "# Lectura\n",
    "pyplot.plot(np.arange(len(J_history2)), J_history2, lw=1)\n",
    "pyplot.xlabel('Numero de iteraciones')\n",
    "pyplot.ylabel('Costo J')\n",
    "# Escritura\n",
    "pyplot.plot(np.arange(len(J_history3)), J_history3, lw=1)\n",
    "pyplot.xlabel('Numero de iteraciones')\n",
    "pyplot.ylabel('Costo J')"
   ]
  },
  {
   "cell_type": "markdown",
   "metadata": {},
   "source": [
    "<a id=\"section7\"></a>\n",
    "### 2.3 Ecuacion de la Normal\n",
    "\n",
    "Una manera de calcular rapidamente el modelo de una regresion lineal es:\n",
    "\n",
    "$$ \\theta = \\left( X^T X\\right)^{-1} X^T\\vec{y}$$\n",
    "\n",
    "Utilizando esta formula no requiere que se escale ninguna caracteristica, y se obtendra una solucion exacta con un solo calculo: no hay “bucles de convergencia” como en el descenso por el gradiente. \n",
    "\n",
    "Primero se recargan los datos para garantizar que las variables no esten modificadas. Recordar que no es necesario escalar las caracteristicas, se debe agregar la columna de unos a la matriz $X$ para tener el termino de intersección($\\theta_0$). "
   ]
  },
  {
   "cell_type": "code",
   "execution_count": 33,
   "metadata": {},
   "outputs": [],
   "source": [
    "# Cargar datos\n",
    "X = dataN[:, :5]\n",
    "y1 = dataN[:, 5]\n",
    "y2 = dataN[:, 6]\n",
    "y3 = dataN[:, 7]\n",
    "m = y1.size\n",
    "X = np.concatenate([np.ones((m, 1)), X], axis=1)"
   ]
  },
  {
   "cell_type": "code",
   "execution_count": 34,
   "metadata": {},
   "outputs": [],
   "source": [
    "def normalEqn(X, y):\n",
    "    theta = np.zeros(X.shape[1])\n",
    "    theta = np.dot(np.dot(np.linalg.inv(np.dot(X.T,X)),X.T),y)\n",
    "    return theta"
   ]
  },
  {
   "cell_type": "code",
   "execution_count": 35,
   "metadata": {},
   "outputs": [
    {
     "name": "stdout",
     "output_type": "stream",
     "text": [
      "(Matematicas) Theta calculado a partir de la ecuación de la normal: [80.69652842  6.51065114 -0.15723313  0.19085085 -1.09233025 -4.26275254]\n",
      "(Lectura) Theta calculado a partir de la ecuación de la normal: [86.08349191 -5.39256708 -0.13983197  0.18415564 -0.75791022 -7.18857102]\n",
      "(Escritura) Theta calculado a partir de la ecuación de la normal: [88.58918761 -7.46945859 -0.17695398  0.24491945 -0.87902717 -9.86318584]\n",
      "La nota que se tiene con los: (usando el descenso por el gradiente): 63\n",
      "La nota que se tiene con los: (usando el descenso por el gradiente): 73\n",
      "La nota que se tiene con los: (usando el descenso por el gradiente): 74\n"
     ]
    }
   ],
   "source": [
    "# Calcula los parametros con la ecuación de la normal\n",
    "theta1 = normalEqn(X, y1)\n",
    "theta2 = normalEqn(X, y2)\n",
    "theta3 = normalEqn(X, y3)\n",
    "\n",
    "# Muestra los resultados optenidos a partir de la aplicación de la ecuación de la normal\n",
    "print('(Matematicas) Theta calculado a partir de la ecuación de la normal: {:s}'.format(str(theta1)))\n",
    "print('(Lectura) Theta calculado a partir de la ecuación de la normal: {:s}'.format(str(theta2)))\n",
    "print('(Escritura) Theta calculado a partir de la ecuación de la normal: {:s}'.format(str(theta3)))\n",
    "\n",
    "# Estimaciones matematicas\n",
    "X_array1 = [1, 0, 10, 65, 22, 1]\n",
    "price1 = np.dot(X_array1, theta1)   # Se debe cambiar esto\n",
    "print('La nota que se tiene con los: (usando el descenso por el gradiente): {:.0f}'.format(price1))\n",
    "\n",
    "# Estimaciones lectura\n",
    "X_array2 = [1, 0, 10, 65, 22, 1]\n",
    "price2 = np.dot(X_array2, theta2)   # Se debe cambiar esto\n",
    "print('La nota que se tiene con los: (usando el descenso por el gradiente): {:.0f}'.format(price2))\n",
    "\n",
    "# Estimaciones escritura\n",
    "X_array3 = [1, 0, 10, 65, 22, 1]\n",
    "price3 = np.dot(X_array3, theta3)   # Se debe cambiar esto\n",
    "print('La nota que se tiene con los: (usando el descenso por el gradiente): {:.0f}'.format(price3))"
   ]
  },
  {
   "cell_type": "code",
   "execution_count": null,
   "metadata": {},
   "outputs": [],
   "source": []
  }
 ],
 "metadata": {
  "kernelspec": {
   "display_name": "Python 3 (ipykernel)",
   "language": "python",
   "name": "python3"
  },
  "language_info": {
   "codemirror_mode": {
    "name": "ipython",
    "version": 3
   },
   "file_extension": ".py",
   "mimetype": "text/x-python",
   "name": "python",
   "nbconvert_exporter": "python",
   "pygments_lexer": "ipython3",
   "version": "3.9.12"
  },
  "vscode": {
   "interpreter": {
    "hash": "db770a79811cf06dd2eb2d8661a865789fd9658586cf1984ee660fb686aab52b"
   }
  }
 },
 "nbformat": 4,
 "nbformat_minor": 2
}
