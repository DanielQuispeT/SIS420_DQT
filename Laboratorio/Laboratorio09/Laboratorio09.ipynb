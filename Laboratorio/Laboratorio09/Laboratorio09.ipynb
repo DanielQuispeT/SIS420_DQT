{
 "cells": [
  {
   "cell_type": "markdown",
   "id": "512d8468",
   "metadata": {},
   "source": [
    "# Laboratorio 09, Regresion Lineal Multiple\n",
    "### Water quality"
   ]
  },
  {
   "cell_type": "markdown",
   "id": "0ece8b03",
   "metadata": {},
   "source": [
    "#### Importamos las librerias necesarias"
   ]
  },
  {
   "cell_type": "code",
   "execution_count": 16,
   "id": "3eb42b6f",
   "metadata": {},
   "outputs": [],
   "source": [
    "# utilizado para manejos de directorios y rutas\n",
    "import os\n",
    "\n",
    "# Computacion vectorial y cientifica para python\n",
    "import numpy as np\n",
    "\n",
    "# Librerias para graficación (trazado de gráficos)\n",
    "from matplotlib import pyplot\n",
    "from mpl_toolkits.mplot3d import Axes3D  # Necesario para graficar superficies 3D\n",
    "\n",
    "# llama a matplotlib a embeber graficas dentro de los cuadernillos\n",
    "%matplotlib inline"
   ]
  },
  {
   "cell_type": "markdown",
   "id": "278ca972",
   "metadata": {},
   "source": [
    "#### Cargamos los datos de waterQuality1.csv"
   ]
  },
  {
   "cell_type": "code",
   "execution_count": 17,
   "id": "9ec05116",
   "metadata": {},
   "outputs": [],
   "source": [
    "data = np.loadtxt(os.path.join('Datasets', 'waterQuality1.csv'), delimiter=',')\n",
    "X = data[:, :20]\n",
    "y = data[:, 20]\n",
    "m = y.size\n",
    "# imprimir algunos puntos de datos\n",
    "# print('{:>8s}{:>8s}{:>8s}{:>8s}{:>10s}'.format('X[:,0]', 'X[:, 1]','X[:,18]', 'X[:, 19]', 'y'))\n",
    "# print('-'*42)\n",
    "# for i in range(len(y)):\n",
    "#     print('{:8.0f}{:8.0f}{:8.0f}{:8.0f}{:10.0f}'.format(X[i, 0], X[i, 1],X[i, 18], X[i, 19], y[i]))"
   ]
  },
  {
   "cell_type": "markdown",
   "id": "efef5e6e",
   "metadata": {},
   "source": [
    "### Normalizacion de X"
   ]
  },
  {
   "cell_type": "code",
   "execution_count": 18,
   "id": "b5d96ab9",
   "metadata": {},
   "outputs": [],
   "source": [
    "def featureNormalize(X):\n",
    "    X_norm = X.copy()\n",
    "    mu = np.zeros(X.shape[1])\n",
    "    sigma = np.zeros(X.shape[1])\n",
    "\n",
    "    mu = np.mean(X, axis = 0)\n",
    "    sigma = np.std(X, axis = 0)\n",
    "    X_norm = (X - mu) / sigma\n",
    "    \n",
    "    return X_norm, mu, sigma"
   ]
  },
  {
   "cell_type": "code",
   "execution_count": 19,
   "id": "ba701f47",
   "metadata": {},
   "outputs": [
    {
     "name": "stdout",
     "output_type": "stream",
     "text": [
      "Media calculada: [6.66467792e-01 1.42799650e+01 1.61485929e-01 1.56806754e+00\n",
      " 4.28075047e-02 2.17779987e+00 2.47323327e-01 8.05801126e-01\n",
      " 7.71706066e-01 3.19753596e-01 3.28747217e-01 9.94192620e-02\n",
      " 9.81875297e+00 1.32981363e+00 5.19237023e-03 1.64670732e+01\n",
      " 2.92042402e+00 4.96835522e-02 1.47827392e-01 4.46704190e-02]\n",
      "Desviación estandar calculada: [1.26530668e+00 8.87754577e+00 2.52631218e-01 1.21616304e+00\n",
      " 3.60474407e-02 2.56714026e+00 2.70655360e-01 6.53475908e-01\n",
      " 4.35390077e-01 3.29477198e-01 3.78095458e-01 5.81592911e-02\n",
      " 5.54179864e+00 5.73263440e-01 2.96707247e-03 1.76880888e+01\n",
      " 2.32263138e+00 2.87733360e-02 1.43561577e-01 2.69054504e-02]\n",
      "[[1.650e+00 9.080e+00 4.000e-02 ... 8.000e-02 3.400e-01 2.000e-02]\n",
      " [2.320e+00 2.116e+01 1.000e-02 ... 8.000e-02 2.700e-01 5.000e-02]\n",
      " [1.010e+00 1.402e+01 4.000e-02 ... 7.000e-02 4.400e-01 1.000e-02]\n",
      " ...\n",
      " [9.000e-02 6.850e+00 0.000e+00 ... 0.000e+00 4.000e-02 5.000e-02]\n",
      " [1.000e-02 1.000e+01 1.000e-02 ... 0.000e+00 0.000e+00 0.000e+00]\n",
      " [4.000e-02 6.850e+00 1.000e-02 ... 0.000e+00 4.000e-02 5.000e-02]]\n",
      "[[ 0.77730737 -0.58574353 -0.48088249 ...  1.05362992  1.33860753\n",
      "  -0.91693016]\n",
      " [ 1.30682327  0.77499291 -0.59963266 ...  1.05362992  0.85101188\n",
      "   0.19808555]\n",
      " [ 0.27150114 -0.02928343 -0.48088249 ...  0.70608593  2.03517274\n",
      "  -1.28860207]\n",
      " ...\n",
      " [-0.45559531 -0.83693908 -0.63921605 ... -1.726722   -0.7510881\n",
      "   0.19808555]\n",
      " [-0.51882109 -0.48211128 -0.59963266 ... -1.726722   -1.02971418\n",
      "  -1.66027398]\n",
      " [-0.49511143 -0.83693908 -0.59963266 ... -1.726722   -0.7510881\n",
      "   0.19808555]]\n"
     ]
    }
   ],
   "source": [
    "# llama featureNormalize con los datos cargados\n",
    "X_norm, mu, sigma = featureNormalize(X)\n",
    "\n",
    "print('Media calculada:', mu)\n",
    "print('Desviación estandar calculada:', sigma)\n",
    "print(X)\n",
    "print(X_norm)"
   ]
  },
  {
   "cell_type": "code",
   "execution_count": 20,
   "id": "2258d4ff",
   "metadata": {},
   "outputs": [
    {
     "name": "stdout",
     "output_type": "stream",
     "text": [
      "[[ 1.          0.77730737 -0.58574353 ...  1.05362992  1.33860753\n",
      "  -0.91693016]\n",
      " [ 1.          1.30682327  0.77499291 ...  1.05362992  0.85101188\n",
      "   0.19808555]\n",
      " [ 1.          0.27150114 -0.02928343 ...  0.70608593  2.03517274\n",
      "  -1.28860207]\n",
      " ...\n",
      " [ 1.         -0.45559531 -0.83693908 ... -1.726722   -0.7510881\n",
      "   0.19808555]\n",
      " [ 1.         -0.51882109 -0.48211128 ... -1.726722   -1.02971418\n",
      "  -1.66027398]\n",
      " [ 1.         -0.49511143 -0.83693908 ... -1.726722   -0.7510881\n",
      "   0.19808555]]\n"
     ]
    }
   ],
   "source": [
    "# Añade el termino de interseccion a X\n",
    "# (Columna de unos para X0)\n",
    "X = np.concatenate([np.ones((m, 1)), X_norm], axis=1)\n",
    "print(X)"
   ]
  },
  {
   "cell_type": "markdown",
   "id": "d0ae5c05",
   "metadata": {},
   "source": [
    "### Costos"
   ]
  },
  {
   "cell_type": "code",
   "execution_count": 21,
   "id": "1cb8ce94",
   "metadata": {},
   "outputs": [],
   "source": [
    "# Funcion que calcula el costo\n",
    "def computeCostMulti(X, y, theta):\n",
    "    # Inicializa algunos valores utiles\n",
    "    m = y.shape[0] # numero de ejemplos de entrenamiento\n",
    "    \n",
    "    J = 0\n",
    "    \n",
    "    h = np.dot(X, theta)\n",
    "    \n",
    "    J = (1/(2 * m)) * np.sum(np.square(np.dot(X, theta) - y))\n",
    "    \n",
    "    return J"
   ]
  },
  {
   "cell_type": "markdown",
   "id": "9d15f7ad",
   "metadata": {},
   "source": [
    "### Descenso del Gradiente"
   ]
  },
  {
   "cell_type": "code",
   "execution_count": 22,
   "id": "960b8362",
   "metadata": {},
   "outputs": [],
   "source": [
    "# Funcion del descenso del gradiente\n",
    "def gradientDescentMulti(X, y, theta, alpha, num_iters):\n",
    "    \n",
    "    # Inicializa algunos valores \n",
    "    m = y.shape[0] # numero de ejemplos de entrenamiento\n",
    "    \n",
    "    # realiza una copia de theta, el cual será acutalizada por el descenso por el gradiente\n",
    "    theta = theta.copy()\n",
    "    \n",
    "    J_history = []\n",
    "    \n",
    "    for i in range(num_iters):\n",
    "        theta = theta - (alpha / m) * (np.dot(X, theta) - y).dot(X)\n",
    "        J_history.append(computeCostMulti(X, y, theta))\n",
    "    \n",
    "    return theta, J_history"
   ]
  },
  {
   "cell_type": "code",
   "execution_count": 25,
   "id": "052219fe",
   "metadata": {},
   "outputs": [
    {
     "name": "stdout",
     "output_type": "stream",
     "text": [
      "theta calculado por el descenso por el gradiente:\n",
      " [ 0.11406614  0.10963504 -0.01465831 -0.05690956  0.01072804 -0.04771859\n",
      "  0.04686249  0.03383038 -0.02036044  0.00376345  0.02185959 -0.0335613\n",
      " -0.00769852 -0.0198242  -0.01255571 -0.00911161 -0.03938743 -0.00882526\n",
      " -0.01042072 -0.01331315 -0.02380804]\n",
      "\n",
      " 1. El agua con los siguientes valores: \n",
      "[1, 2.8, 32.5, 0.01, 2, 0.005, 4, 0.1, 1.3, 1.5, 0, 0, 0.015, 10, 1, 0.002, 56, 5, 0.5, 0.1, 0.3] \n",
      " Es aceptable:  -2.3391309569901018\n",
      "\n",
      " 2. El agua con los siguientes valores: \n",
      "[1, 1.65, 9.08, 0.04, 2.85, 0.007, 0.35, 0.83, 0.17, 0.05, 0.2, 0, 0.054, 16.08, 1.13, 0.007, 37.75, 6.78, 0.08, 0.34, 0.02] \n",
      " Es aceptable:  -1.6505768206625888\n",
      "\n",
      " 3. El agua con los siguientes valores: \n",
      "[1, 1.01, 14.02, 0.04, 0.58, 0.008, 4.24, 0.53, 0.02, 0.99, 0.05, 0.003, 0.078, 14.16, 1.11, 0.006, 50.28, 7.07, 0.07, 0.44, 0.01] \n",
      " Es aceptable:  -2.1011325909015586\n"
     ]
    }
   ],
   "source": [
    "# Elegir algun valor para alpha (probar varias alternativas)\n",
    "alpha = 0.001\n",
    "num_iters = 10000\n",
    "\n",
    "# inicializa theta y ejecuta el descenso por el gradiente\n",
    "theta = np.zeros(21)\n",
    "theta, J_history = gradientDescentMulti(X, y, theta, alpha, num_iters)\n",
    "\n",
    "# Muestra los resultados del descenso por el gradiente\n",
    "print('theta calculado por el descenso por el gradiente:\\n {:s}'.format(str(theta)))\n",
    "\n",
    "# Estimar la calidad del agua con los siguientes datos\n",
    "#Limite\n",
    "X_array = [1, 2.8, 32.5, 0.01, 2, 0.005, 4, 0.1, 1.3, 1.5, 0, 0, 0.015, 10, 1, 0.002, 56, 5, 0.5, 0.1, 0.3]\n",
    "calidad = np.dot(X_array, theta)   # Se debe cambiar esto\n",
    "print('\\n 1. El agua con los siguientes valores: \\n{:s}'.format(str(X_array)), '\\n Es aceptable: ',calidad)\n",
    "\n",
    "#Si permitido\n",
    "#X_array2 = [1, 0, 0, 0, 0, 0, 0, 0, 0, 0, 0, 0, 0, 0, 0, 0, 0, 0, 0, 0, 0]\n",
    "X_array2 = [1, 1.65, 9.08, 0.04, 2.85, 0.007, 0.35, 0.83, 0.17, 0.05, 0.2, \n",
    "            0, 0.054, 16.08, 1.13, 0.007, 37.75, 6.78, 0.08, 0.34, 0.02]\n",
    "calidad2 = np.dot(X_array2, theta)   # Se debe cambiar esto\n",
    "print('\\n 2. El agua con los siguientes valores: \\n{:s}'.format(str(X_array2)), '\\n Es aceptable: ',calidad2)\n",
    "\n",
    "#No permitido\n",
    "#X_array3 = [1, 2.9, 32.6, 0.02, 2.1, 0.006, 4.1, 0.2, 1.4, 1.6, 0.1, 0.1, 0.02, 10.1, 1.1, 0.003, 56.1, 5.1, 0.6, 0.2, 0.4]\n",
    "X_array3 = [1, 1.01, 14.02, 0.04, 0.58, 0.008, 4.24, 0.53, 0.02, 0.99, 0.05, \n",
    "            0.003, 0.078, 14.16, 1.11, 0.006, 50.28, 7.07, 0.07, 0.44, 0.01]\n",
    "calidad3 = np.dot(X_array3, theta)   # Se debe cambiar esto\n",
    "print('\\n 3. El agua con los siguientes valores: \\n{:s}'.format(str(X_array3)), '\\n Es aceptable: ',calidad3)"
   ]
  },
  {
   "cell_type": "markdown",
   "id": "1182e559",
   "metadata": {},
   "source": [
    "### Gráfica de las iteraciones en relacion con los costes"
   ]
  },
  {
   "cell_type": "code",
   "execution_count": 55,
   "id": "da7f7eca",
   "metadata": {},
   "outputs": [
    {
     "data": {
      "text/plain": [
       "Text(0, 0.5, 'Costo J')"
      ]
     },
     "execution_count": 55,
     "metadata": {},
     "output_type": "execute_result"
    },
    {
     "data": {
      "image/png": "[encoded data removed]",
      "text/plain": [
       "<Figure size 640x480 with 1 Axes>"
      ]
     },
     "metadata": {},
     "output_type": "display_data"
    }
   ],
   "source": [
    "# Grafica la convergencia del costo\n",
    "Posicion = num_iters\n",
    "pyplot.plot(np.arange(len(J_history)), J_history, lw=2)\n",
    "pyplot.plot(Posicion, J_history[Posicion - 1], marker =\"o\")\n",
    "pyplot.annotate(\"Último\", (Posicion - 500, J_history[Posicion - 1] + 0.0005))\n",
    "pyplot.xlabel('Numero de iteraciones')\n",
    "pyplot.ylabel('Costo J')"
   ]
  },
  {
   "cell_type": "code",
   "execution_count": 9,
   "id": "992b02f1",
   "metadata": {},
   "outputs": [],
   "source": [
    "# Cargar datos\n",
    "data = np.loadtxt(os.path.join('Datasets', 'waterQuality1.csv'), delimiter=',')\n",
    "X = data[:, :20]\n",
    "y = data[:, 20]\n",
    "m = y.size\n",
    "X = np.concatenate([np.ones((m, 1)), X], axis=1)"
   ]
  },
  {
   "cell_type": "markdown",
   "id": "e8602af4",
   "metadata": {},
   "source": [
    "### Metodo de la Normal"
   ]
  },
  {
   "cell_type": "code",
   "execution_count": 10,
   "id": "4e0eaa79",
   "metadata": {},
   "outputs": [],
   "source": [
    "def normalEqn(X, y):\n",
    "    theta = np.zeros(X.shape[1])\n",
    "    theta = np.dot(np.dot(np.linalg.inv(np.dot(X.T,X)),X.T),y)\n",
    "    return theta"
   ]
  },
  {
   "cell_type": "code",
   "execution_count": 11,
   "id": "d9bb44d8",
   "metadata": {},
   "outputs": [
    {
     "name": "stdout",
     "output_type": "stream",
     "text": [
      "Theta calculado a partir de la ecuación de la normal: \n",
      "[ 3.29250612e-01  8.72431896e-02 -1.65880320e-03 -2.25609308e-01\n",
      "  8.99539465e-03 -1.31137325e+00  1.85687871e-02  1.25284892e-01\n",
      " -3.17908205e-02  8.59860104e-03  7.43932219e-02 -9.48974643e-02\n",
      " -1.30394830e-01 -3.57664359e-03 -2.40922905e-02 -3.03701602e+00\n",
      " -2.27616495e-03 -3.83213433e-03 -3.65487449e-01 -9.44982971e-02\n",
      " -8.84596787e-01]\n",
      "\n",
      " 1. El agua con los siguientes valores: \n",
      "[1, 2.8, 32.5, 0.01, 2, 0.005, 4, 0.1, 1.3, 1.5, 0, 0, 0.015, 10, 1, 0.002, 56, 5, 0.5, 0.1, 0.3] \n",
      " Es aceptable:  -0.08491543836790025\n",
      "\n",
      " 2. El agua con los siguientes valores: \n",
      "[1, 1.65, 9.08, 0.04, 2.85, 0.007, 0.35, 0.83, 0.17, 0.05, 0.2, 0, 0.054, 16.08, 1.13, 0.007, 37.75, 6.78, 0.08, 0.34, 0.02] \n",
      " Es aceptable:  0.2819579016320411\n",
      "\n",
      " 3. El agua con los siguientes valores: \n",
      "[1, 1.01, 14.02, 0.04, 0.58, 0.008, 4.24, 0.53, 0.02, 0.99, 0.05, 0.003, 0.078, 14.16, 1.11, 0.006, 50.28, 7.07, 0.07, 0.44, 0.01] \n",
      " Es aceptable:  0.21292748878112663\n"
     ]
    }
   ],
   "source": [
    "# Calcula los parametros con la ecuación de la normal\n",
    "theta = normalEqn(X, y);\n",
    "\n",
    "# Muestra los resultados optenidos a partir de la aplicación de la ecuación de la normal\n",
    "print('Theta calculado a partir de la ecuación de la normal: \\n{:s}'.format(str(theta)));\n",
    "\n",
    "# Estimar la calidad del agua con los siguientes datos\n",
    "#Limite\n",
    "X_array = [1, 2.8, 32.5, 0.01, 2, 0.005, 4, 0.1, 1.3, 1.5, 0, 0, 0.015, 10, 1, 0.002, 56, 5, 0.5, 0.1, 0.3]\n",
    "calidad = np.dot(X_array, theta)   # Se debe cambiar esto\n",
    "print('\\n 1. El agua con los siguientes valores: \\n{:s}'.format(str(X_array)), '\\n Es aceptable: ',calidad)\n",
    "\n",
    "#Si permitido, deberia salir 1\n",
    "#X_array2 = [1, 0, 0, 0, 0, 0, 0, 0, 0, 0, 0, 0, 0, 0, 0, 0, 0, 0, 0, 0, 0]\n",
    "X_array2 = [1, 1.65, 9.08, 0.04, 2.85, 0.007, 0.35, 0.83, 0.17, 0.05, 0.2, \n",
    "            0, 0.054, 16.08, 1.13, 0.007, 37.75, 6.78, 0.08, 0.34, 0.02]\n",
    "calidad2 = np.dot(X_array2, theta)   # Se debe cambiar esto\n",
    "print('\\n 2. El agua con los siguientes valores: \\n{:s}'.format(str(X_array2)), '\\n Es aceptable: ',calidad2)\n",
    "\n",
    "#No permitido, deberia salir 0\n",
    "#X_array3 = [1, 2.9, 32.6, 0.02, 2.1, 0.006, 4.1, 0.2, 1.4, 1.6, 0.1, 0.1, 0.02, 10.1, 1.1, 0.003, 56.1, 5.1, 0.6, 0.2, 0.4]\n",
    "X_array3 = [1, 1.01, 14.02, 0.04, 0.58, 0.008, 4.24, 0.53, 0.02, 0.99, 0.05, \n",
    "            0.003, 0.078, 14.16, 1.11, 0.006, 50.28, 7.07, 0.07, 0.44, 0.01]\n",
    "calidad3 = np.dot(X_array3, theta)   # Se debe cambiar esto\n",
    "print('\\n 3. El agua con los siguientes valores: \\n{:s}'.format(str(X_array3)), '\\n Es aceptable: ',calidad3)"
   ]
  },
  {
   "cell_type": "markdown",
   "id": "852b6912",
   "metadata": {},
   "source": [
    "### Detalles\n",
    "Segun las pruebas que realice con los datos extraido del dataset de https://www.kaggle.com/datasets/mssmartypants/water-quality, modificando el coeficiente de aprendizaje, variando la canrtidad de iteraciones losresultados no son muy satisfactorios ya que deberian de salir 0 o 1 dependiendo si los valores dados son aceptables para el consumo del agua con los elementos que contienen, 0 es no aceptable y 1 aceptable."
   ]
  },
  {
   "cell_type": "code",
   "execution_count": null,
   "id": "cdfa6fdf",
   "metadata": {},
   "outputs": [],
   "source": []
  }
 ],
 "metadata": {
  "kernelspec": {
   "display_name": "Python 3 (ipykernel)",
   "language": "python",
   "name": "python3"
  },
  "language_info": {
   "codemirror_mode": {
    "name": "ipython",
    "version": 3
   },
   "file_extension": ".py",
   "mimetype": "text/x-python",
   "name": "python",
   "nbconvert_exporter": "python",
   "pygments_lexer": "ipython3",
   "version": "3.9.12"
  }
 },
 "nbformat": 4,
 "nbformat_minor": 5
}
