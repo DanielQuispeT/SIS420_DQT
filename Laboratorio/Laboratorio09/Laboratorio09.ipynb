{
 "cells": [
  {
   "cell_type": "markdown",
   "id": "512d8468",
   "metadata": {},
   "source": [
    "# Laboratorio 09, Regresion Lineal Multiple\n",
    "### Water quality"
   ]
  },
  {
   "cell_type": "markdown",
   "id": "0ece8b03",
   "metadata": {},
   "source": [
    "#### Importamos las librerias necesarias"
   ]
  },
  {
   "cell_type": "code",
   "execution_count": 83,
   "id": "3eb42b6f",
   "metadata": {},
   "outputs": [],
   "source": [
    "# utilizado para manejos de directorios y rutas\n",
    "import os\n",
    "\n",
    "# Computacion vectorial y cientifica para python\n",
    "import numpy as np\n",
    "\n",
    "# Librerias para graficación (trazado de gráficos)\n",
    "from matplotlib import pyplot\n",
    "from mpl_toolkits.mplot3d import Axes3D  # Necesario para graficar superficies 3D\n",
    "\n",
    "# llama a matplotlib a embeber graficas dentro de los cuadernillos\n",
    "%matplotlib inline"
   ]
  },
  {
   "cell_type": "markdown",
   "id": "278ca972",
   "metadata": {},
   "source": [
    "#### Cargamos los datos de waterQuality1.csv"
   ]
  },
  {
   "cell_type": "code",
   "execution_count": 84,
   "id": "9ec05116",
   "metadata": {},
   "outputs": [],
   "source": [
    "data = np.loadtxt(os.path.join('Datasets', 'waterQuality1.csv'), delimiter=',')\n",
    "X = data[:, :20]\n",
    "y = data[:, 20]\n",
    "m = y.size\n",
    "# imprimir algunos puntos de datos\n",
    "# print('{:>8s}{:>8s}{:>8s}{:>8s}{:>10s}'.format('X[:,0]', 'X[:, 1]','X[:,18]', 'X[:, 19]', 'y'))\n",
    "# print('-'*42)\n",
    "# for i in range(len(y)):\n",
    "#     print('{:8.0f}{:8.0f}{:8.0f}{:8.0f}{:10.0f}'.format(X[i, 0], X[i, 1],X[i, 18], X[i, 19], y[i]))"
   ]
  },
  {
   "cell_type": "markdown",
   "id": "efef5e6e",
   "metadata": {},
   "source": [
    "### Normalizacion de X"
   ]
  },
  {
   "cell_type": "code",
   "execution_count": 85,
   "id": "b5d96ab9",
   "metadata": {},
   "outputs": [],
   "source": [
    "def featureNormalize(X):\n",
    "    X_norm = X.copy()\n",
    "    mu = np.zeros(X.shape[1])\n",
    "    sigma = np.zeros(X.shape[1])\n",
    "\n",
    "    mu = np.mean(X, axis = 0)\n",
    "    sigma = np.std(X, axis = 0)\n",
    "    X_norm = (X - mu) / sigma\n",
    "    \n",
    "    return X_norm, mu, sigma"
   ]
  },
  {
   "cell_type": "code",
   "execution_count": 86,
   "id": "ba701f47",
   "metadata": {},
   "outputs": [
    {
     "name": "stdout",
     "output_type": "stream",
     "text": [
      "Media calculada: [6.66467792e-01 1.42799650e+01 1.61485929e-01 1.56806754e+00\n",
      " 4.28075047e-02 2.17779987e+00 2.47323327e-01 8.05801126e-01\n",
      " 7.71706066e-01 3.19753596e-01 3.28747217e-01 9.94192620e-02\n",
      " 9.81875297e+00 1.32981363e+00 5.19237023e-03 1.64670732e+01\n",
      " 2.92042402e+00 4.96835522e-02 1.47827392e-01 4.46704190e-02]\n",
      "Desviación estandar calculada: [1.26530668e+00 8.87754577e+00 2.52631218e-01 1.21616304e+00\n",
      " 3.60474407e-02 2.56714026e+00 2.70655360e-01 6.53475908e-01\n",
      " 4.35390077e-01 3.29477198e-01 3.78095458e-01 5.81592911e-02\n",
      " 5.54179864e+00 5.73263440e-01 2.96707247e-03 1.76880888e+01\n",
      " 2.32263138e+00 2.87733360e-02 1.43561577e-01 2.69054504e-02]\n",
      "[[1.650e+00 9.080e+00 4.000e-02 ... 8.000e-02 3.400e-01 2.000e-02]\n",
      " [2.320e+00 2.116e+01 1.000e-02 ... 8.000e-02 2.700e-01 5.000e-02]\n",
      " [1.010e+00 1.402e+01 4.000e-02 ... 7.000e-02 4.400e-01 1.000e-02]\n",
      " ...\n",
      " [9.000e-02 6.850e+00 0.000e+00 ... 0.000e+00 4.000e-02 5.000e-02]\n",
      " [1.000e-02 1.000e+01 1.000e-02 ... 0.000e+00 0.000e+00 0.000e+00]\n",
      " [4.000e-02 6.850e+00 1.000e-02 ... 0.000e+00 4.000e-02 5.000e-02]]\n",
      "[[ 0.77730737 -0.58574353 -0.48088249 ...  1.05362992  1.33860753\n",
      "  -0.91693016]\n",
      " [ 1.30682327  0.77499291 -0.59963266 ...  1.05362992  0.85101188\n",
      "   0.19808555]\n",
      " [ 0.27150114 -0.02928343 -0.48088249 ...  0.70608593  2.03517274\n",
      "  -1.28860207]\n",
      " ...\n",
      " [-0.45559531 -0.83693908 -0.63921605 ... -1.726722   -0.7510881\n",
      "   0.19808555]\n",
      " [-0.51882109 -0.48211128 -0.59963266 ... -1.726722   -1.02971418\n",
      "  -1.66027398]\n",
      " [-0.49511143 -0.83693908 -0.59963266 ... -1.726722   -0.7510881\n",
      "   0.19808555]]\n"
     ]
    }
   ],
   "source": [
    "# llama featureNormalize con los datos cargados\n",
    "X_norm, mu, sigma = featureNormalize(X)\n",
    "\n",
    "print('Media calculada:', mu)\n",
    "print('Desviación estandar calculada:', sigma)\n",
    "print(X)\n",
    "print(X_norm)"
   ]
  },
  {
   "cell_type": "code",
   "execution_count": 87,
   "id": "2258d4ff",
   "metadata": {},
   "outputs": [
    {
     "name": "stdout",
     "output_type": "stream",
     "text": [
      "[[ 1.          0.77730737 -0.58574353 ...  1.05362992  1.33860753\n",
      "  -0.91693016]\n",
      " [ 1.          1.30682327  0.77499291 ...  1.05362992  0.85101188\n",
      "   0.19808555]\n",
      " [ 1.          0.27150114 -0.02928343 ...  0.70608593  2.03517274\n",
      "  -1.28860207]\n",
      " ...\n",
      " [ 1.         -0.45559531 -0.83693908 ... -1.726722   -0.7510881\n",
      "   0.19808555]\n",
      " [ 1.         -0.51882109 -0.48211128 ... -1.726722   -1.02971418\n",
      "  -1.66027398]\n",
      " [ 1.         -0.49511143 -0.83693908 ... -1.726722   -0.7510881\n",
      "   0.19808555]]\n"
     ]
    }
   ],
   "source": [
    "# Añade el termino de interseccion a X\n",
    "# (Columna de unos para X0)\n",
    "X = np.concatenate([np.ones((m, 1)), X_norm], axis=1)\n",
    "print(X)"
   ]
  },
  {
   "cell_type": "markdown",
   "id": "d0ae5c05",
   "metadata": {},
   "source": [
    "### Costos"
   ]
  },
  {
   "cell_type": "code",
   "execution_count": 88,
   "id": "1cb8ce94",
   "metadata": {},
   "outputs": [],
   "source": [
    "# Funcion que calcula el costo\n",
    "def computeCostMulti(X, y, theta):\n",
    "    # Inicializa algunos valores utiles\n",
    "    m = y.shape[0] # numero de ejemplos de entrenamiento\n",
    "    \n",
    "    J = 0\n",
    "    \n",
    "    h = np.dot(X, theta)\n",
    "    \n",
    "    J = (1/(2 * m)) * np.sum(np.square(np.dot(X, theta) - y))\n",
    "    \n",
    "    return J"
   ]
  },
  {
   "cell_type": "markdown",
   "id": "9d15f7ad",
   "metadata": {},
   "source": [
    "### Descenso del Gradiente"
   ]
  },
  {
   "cell_type": "code",
   "execution_count": 89,
   "id": "960b8362",
   "metadata": {},
   "outputs": [],
   "source": [
    "# Funcion del descenso del gradiente\n",
    "def gradientDescentMulti(X, y, theta, alpha, num_iters):\n",
    "    \n",
    "    # Inicializa algunos valores \n",
    "    m = y.shape[0] # numero de ejemplos de entrenamiento\n",
    "    \n",
    "    # realiza una copia de theta, el cual será acutalizada por el descenso por el gradiente\n",
    "    theta = theta.copy()\n",
    "    \n",
    "    J_history = []\n",
    "    \n",
    "    for i in range(num_iters):\n",
    "        theta = theta - (alpha / m) * (np.dot(X, theta) - y).dot(X)\n",
    "        J_history.append(computeCostMulti(X, y, theta))\n",
    "    \n",
    "    return theta, J_history"
   ]
  },
  {
   "cell_type": "code",
   "execution_count": 98,
   "id": "052219fe",
   "metadata": {},
   "outputs": [
    {
     "name": "stdout",
     "output_type": "stream",
     "text": [
      "theta calculado por el descenso por el gradiente:\n",
      " [ 0.11330288  0.10504575 -0.01410748 -0.05501786  0.00935319 -0.04959652\n",
      "  0.04217625  0.03247369 -0.01799079  0.00373018  0.01416319 -0.02760845\n",
      " -0.00776278 -0.01987331 -0.00960382 -0.00958059 -0.03372098 -0.00821803\n",
      " -0.0100685  -0.01107877 -0.02361825]\n",
      "1. Con los datos dados el agua es (usando el descenso por el gradiente): 0\n",
      "2. Con los datos dados el agua es (usando el descenso por el gradiente): 0\n",
      "3. Con los datos dados el agua es (usando el descenso por el gradiente): -0\n",
      "4. Con los datos dados el agua es (usando el descenso por el gradiente): 0\n",
      "5. Con los datos dados el agua es (usando el descenso por el gradiente): -0\n",
      "6. Con los datos dados el agua es (usando el descenso por el gradiente): 0\n"
     ]
    }
   ],
   "source": [
    "# Elegir algun valor para alpha (probar varias alternativas)\n",
    "alpha = 0.0001\n",
    "num_iters = 50000\n",
    "\n",
    "# inicializa theta y ejecuta el descenso por el gradiente\n",
    "theta = np.zeros(21)\n",
    "theta, J_history = gradientDescentMulti(X, y, theta, alpha, num_iters)\n",
    "\n",
    "# Muestra los resultados del descenso por el gradiente\n",
    "print('theta calculado por el descenso por el gradiente:\\n {:s}'.format(str(theta)))\n",
    "\n",
    "# Primera estimación 1\n",
    "X_array1 = [1,1.36,11.33,0.04,2.96,0.001,7.23,0.03,1.66,1.08,0.71,0.71,0.016,1.41,1.29,0.004,9.12,1.72,0.02,0.45,0.05]\n",
    "X_array1[1:21] = (X_array1[1:21] - mu) / sigma\n",
    "price1 = np.dot(X_array1, theta)   # Se debe cambiar esto\n",
    "print('1. Con los datos dados el agua es (usando el descenso por el gradiente): {:.0f}'.format(price1))\n",
    "\n",
    "# Segunda estimación 1\n",
    "X_array2 = [1,0.24,8.63,0.04,1.07,0.008,6.19,0.49,0.65,0.9,0.58,0.58,0.093,10.16,1.21,0.003,10.21,5.8,0.05,0.24,0.05]\n",
    "X_array2[1:21] = (X_array2[1:21] - mu) / sigma\n",
    "price2 = np.dot(X_array2, theta)   # Se debe cambiar esto\n",
    "print('2. Con los datos dados el agua es (usando el descenso por el gradiente): {:.0f}'.format(price2))\n",
    "\n",
    "# Tercera estimación 0\n",
    "X_array3 = [1,0.07 ,16.07,0.09,0.64,0.1,0.49,0.09,0.36,0.55,0.03,0.005,0.19,0.15,1.86,0.007,10.28,1.97,0.06,0.02,0.04]\n",
    "X_array3[1:21] = (X_array3[1:21] - mu) / sigma\n",
    "price3 = np.dot(X_array3, theta)   # Se debe cambiar esto\n",
    "print('3. Con los datos dados el agua es (usando el descenso por el gradiente): {:.0f}'.format(price3))\n",
    "\n",
    "# Cuarta estimación 0\n",
    "X_array4 = [1, 0.35 ,23.18,0.36,3.4,0.08,6.54,0.39, 0.02 ,0.67,0.68,0.68,0.105,5.53,1.42,0.003,47.78,6.25,0.04,0.18,0.01]\n",
    "X_array4[1:21] = (X_array4[1:21] - mu) / sigma\n",
    "price4 = np.dot(X_array4, theta)   # Se debe cambiar esto\n",
    "print('4. Con los datos dados el agua es (usando el descenso por el gradiente): {:.0f}'.format(price4))\n",
    "\n",
    "# Quinta estimación 0\n",
    "X_array5 = [1, 2.8, 32.5, 0.01, 2, 0.005, 4, 0.1, 1.3, 1.5, 0, 0, 0.015, 10, 1, 0.002, 56, 5, 0.5, 0.1, 0.3]\n",
    "X_array5[1:21] = (X_array5[1:21] - mu) / sigma\n",
    "price5 = np.dot(X_array5, theta)   # Se debe cambiar esto\n",
    "print('5. Con los datos dados el agua es (usando el descenso por el gradiente): {:.0f}'.format(price5))\n",
    "\n",
    "# Sexta estimación 1\n",
    "X_array6 = [1, 0, 0, 0, 0, 0, 0, 0, 0, 0, 0, 0, 0, 0, 0, 0, 0, 0, 0, 0, 0]\n",
    "X_array6[1:21] = (X_array6[1:21] - mu) / sigma\n",
    "price6 = np.dot(X_array6, theta)   # Se debe cambiar esto\n",
    "print('6. Con los datos dados el agua es (usando el descenso por el gradiente): {:.0f}'.format(price6))"
   ]
  },
  {
   "cell_type": "markdown",
   "id": "1182e559",
   "metadata": {},
   "source": [
    "### Gráfica de las iteraciones en relacion con los costes"
   ]
  },
  {
   "cell_type": "code",
   "execution_count": 97,
   "id": "da7f7eca",
   "metadata": {},
   "outputs": [
    {
     "data": {
      "text/plain": [
       "Text(0, 0.5, 'Costo J')"
      ]
     },
     "execution_count": 97,
     "metadata": {},
     "output_type": "execute_result"
    },
    {
     "data": {
      "image/png": "[encoded data removed]",
      "text/plain": [
       "<Figure size 640x480 with 1 Axes>"
      ]
     },
     "metadata": {},
     "output_type": "display_data"
    }
   ],
   "source": [
    "# Grafica la convergencia del costo\n",
    "Posicion = num_iters\n",
    "pyplot.plot(np.arange(len(J_history)), J_history, lw=2)\n",
    "pyplot.plot(Posicion, J_history[Posicion - 1], marker =\"o\")\n",
    "pyplot.annotate(\"Último\", (Posicion - 3000, J_history[Posicion - 1] + 0.0005))\n",
    "pyplot.xlabel('Numero de iteraciones')\n",
    "pyplot.ylabel('Costo J')"
   ]
  },
  {
   "cell_type": "code",
   "execution_count": 92,
   "id": "992b02f1",
   "metadata": {},
   "outputs": [],
   "source": [
    "# Cargar datos\n",
    "dataN = np.loadtxt(os.path.join('Datasets', 'waterQuality1.csv'), delimiter=',')\n",
    "XN = dataN[:, :20]\n",
    "yN = dataN[:, 20]\n",
    "mN = y.size\n",
    "XN = np.concatenate([np.ones((mN, 1)), XN], axis=1)"
   ]
  },
  {
   "cell_type": "markdown",
   "id": "e8602af4",
   "metadata": {},
   "source": [
    "### Metodo de la Normal"
   ]
  },
  {
   "cell_type": "code",
   "execution_count": 93,
   "id": "4e0eaa79",
   "metadata": {},
   "outputs": [],
   "source": [
    "def normalEqn(X, y):\n",
    "    theta = np.zeros(X.shape[1])\n",
    "    theta = np.dot(np.dot(np.linalg.inv(np.dot(X.T,X)),X.T),y)\n",
    "    return theta"
   ]
  },
  {
   "cell_type": "code",
   "execution_count": 99,
   "id": "d9bb44d8",
   "metadata": {},
   "outputs": [
    {
     "name": "stdout",
     "output_type": "stream",
     "text": [
      "Theta calculado a partir de la ecuación de la normal: \n",
      "[ 3.29250612e-01  8.72431896e-02 -1.65880320e-03 -2.25609308e-01\n",
      "  8.99539465e-03 -1.31137325e+00  1.85687871e-02  1.25284892e-01\n",
      " -3.17908205e-02  8.59860104e-03  7.43932219e-02 -9.48974643e-02\n",
      " -1.30394830e-01 -3.57664359e-03 -2.40922905e-02 -3.03701602e+00\n",
      " -2.27616495e-03 -3.83213433e-03 -3.65487449e-01 -9.44982971e-02\n",
      " -8.84596787e-01]\n",
      "1. Con los datos dados el agua es (usando el método de la normal): 0\n",
      "2. Con los datos dados el agua es (usando el método de la normal): 0\n",
      "3. Con los datos dados el agua es (usando el método de la normal): -0\n",
      "4. Con los datos dados el agua es (usando el método de la normal): 0\n",
      "5. Con los datos dados el agua es (usando el método de la normal): -0\n",
      "6. Con los datos dados el agua es (usando el método de la normal): 0\n"
     ]
    }
   ],
   "source": [
    "# Calcula los parametros con la ecuación de la normal\n",
    "thetaN = normalEqn(XN, yN);\n",
    "\n",
    "# Muestra los resultados optenidos a partir de la aplicación de la ecuación de la normal\n",
    "print('Theta calculado a partir de la ecuación de la normal: \\n{:s}'.format(str(thetaN)));\n",
    "\n",
    "# Primera estimación 1\n",
    "X_arrayN1 = [1,1.36,11.33,0.04,2.96,0.001,7.23,0.03,1.66,1.08,0.71,0.71,0.016,1.41,1.29,0.004,9.12,1.72,0.02,0.45,0.05]\n",
    "priceN1 = np.dot(X_arrayN1, thetaN)   # Se debe cambiar esto\n",
    "print('1. Con los datos dados el agua es (usando el método de la normal): {:.0f}'.format(priceN1))\n",
    "\n",
    "# Segunda estimación 1\n",
    "X_arrayN2 = [1,0.24,8.63,0.04,1.07,0.008,6.19,0.49,0.65,0.9,0.58,0.58,0.093,10.16,1.21,0.003,10.21,5.8,0.05,0.24,0.05]\n",
    "priceN2 = np.dot(X_arrayN2, thetaN)   # Se debe cambiar esto\n",
    "print('2. Con los datos dados el agua es (usando el método de la normal): {:.0f}'.format(priceN2))\n",
    "\n",
    "# Tercera estimación 0\n",
    "X_arrayN3 = [1,0.07 ,16.07,0.09,0.64,0.1,0.49,0.09,0.36,0.55,0.03,0.005,0.19,0.15,1.86,0.007,10.28,1.97,0.06,0.02,0.04]\n",
    "priceN3 = np.dot(X_arrayN3, thetaN)   # Se debe cambiar esto\n",
    "print('3. Con los datos dados el agua es (usando el método de la normal): {:.0f}'.format(priceN3))\n",
    "\n",
    "# Cuarta estimación 0\n",
    "X_arrayN4 = [1, 0.35 ,23.18,0.36,3.4,0.08,6.54,0.39, 0.02 ,0.67,0.68,0.68,0.105,5.53,1.42,0.003,47.78,6.25,0.04,0.18,0.01]\n",
    "priceN4 = np.dot(X_arrayN4, thetaN)   # Se debe cambiar esto\n",
    "print('4. Con los datos dados el agua es (usando el método de la normal): {:.0f}'.format(priceN4))\n",
    "\n",
    "# Quinta estimación 0\n",
    "X_arrayN5 = [1, 2.8, 32.5, 0.01, 2, 0.005, 4, 0.1, 1.3, 1.5, 0, 0, 0.015, 10, 1, 0.002, 56, 5, 0.5, 0.1, 0.3]\n",
    "priceN5 = np.dot(X_arrayN5, thetaN)   # Se debe cambiar esto\n",
    "print('5. Con los datos dados el agua es (usando el método de la normal): {:.0f}'.format(priceN5))\n",
    "\n",
    "# Sexta estimación 1\n",
    "X_arrayN6 = [1, 0, 0, 0, 0, 0, 0, 0, 0, 0, 0, 0, 0, 0, 0, 0, 0, 0, 0, 0, 0]\n",
    "priceN6 = np.dot(X_arrayN6, thetaN)   # Se debe cambiar esto\n",
    "print('6. Con los datos dados el agua es (usando el método de la normal): {:.0f}'.format(priceN6))"
   ]
  },
  {
   "cell_type": "markdown",
   "id": "852b6912",
   "metadata": {},
   "source": [
    "### Detalles\n",
    "Segun las pruebas que realice con los datos extraido del dataset de https://www.kaggle.com/datasets/mssmartypants/water-quality, modificando el coeficiente de aprendizaje, variando la cantidad de iteraciones los resultados no son muy satisfactorios ya que deberian de salir 0 o 1 dependiendo si los valores dados son aceptables para el consumo del agua con los elementos que contienen, 0 es no aceptable y 1 aceptable."
   ]
  },
  {
   "cell_type": "code",
   "execution_count": null,
   "id": "cdfa6fdf",
   "metadata": {},
   "outputs": [],
   "source": []
  }
 ],
 "metadata": {
  "kernelspec": {
   "display_name": "Python 3 (ipykernel)",
   "language": "python",
   "name": "python3"
  },
  "language_info": {
   "codemirror_mode": {
    "name": "ipython",
    "version": 3
   },
   "file_extension": ".py",
   "mimetype": "text/x-python",
   "name": "python",
   "nbconvert_exporter": "python",
   "pygments_lexer": "ipython3",
   "version": "3.9.12"
  }
 },
 "nbformat": 4,
 "nbformat_minor": 5
}
